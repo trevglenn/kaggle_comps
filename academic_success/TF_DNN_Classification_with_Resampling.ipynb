{
 "cells": [
  {
   "cell_type": "code",
   "execution_count": 1,
   "id": "77eff00f",
   "metadata": {
    "_cell_guid": "b1076dfc-b9ad-4769-8c92-a6c4dae69d19",
    "_uuid": "8f2839f25d086af736a60e9eeb907d3b93b6e0e5",
    "execution": {
     "iopub.execute_input": "2024-06-24T20:38:41.246267Z",
     "iopub.status.busy": "2024-06-24T20:38:41.245475Z",
     "iopub.status.idle": "2024-06-24T20:38:42.559740Z",
     "shell.execute_reply": "2024-06-24T20:38:42.558745Z"
    },
    "papermill": {
     "duration": 1.333153,
     "end_time": "2024-06-24T20:38:42.561960",
     "exception": false,
     "start_time": "2024-06-24T20:38:41.228807",
     "status": "completed"
    },
    "tags": []
   },
   "outputs": [
    {
     "name": "stdout",
     "output_type": "stream",
     "text": [
      "/kaggle/input/playground-series-s4e6/sample_submission.csv\n",
      "/kaggle/input/playground-series-s4e6/train.csv\n",
      "/kaggle/input/playground-series-s4e6/test.csv\n"
     ]
    }
   ],
   "source": [
    "# This Python 3 environment comes with many helpful analytics libraries installed\n",
    "# It is defined by the kaggle/python Docker image: https://github.com/kaggle/docker-python\n",
    "# For example, here's several helpful packages to load\n",
    "\n",
    "import numpy as np # linear algebra\n",
    "import pandas as pd # data processing, CSV file I/O (e.g. pd.read_csv)\n",
    "\n",
    "# Input data files are available in the read-only \"../input/\" directory\n",
    "# For example, running this (by clicking run or pressing Shift+Enter) will list all files under the input directory\n",
    "\n",
    "import os\n",
    "for dirname, _, filenames in os.walk('/kaggle/input'):\n",
    "    for filename in filenames:\n",
    "        print(os.path.join(dirname, filename))\n",
    "\n",
    "# You can write up to 20GB to the current directory (/kaggle/working/) that gets preserved as output when you create a version using \"Save & Run All\" \n",
    "# You can also write temporary files to /kaggle/temp/, but they won't be saved outside of the current session"
   ]
  },
  {
   "cell_type": "markdown",
   "id": "8fa27197",
   "metadata": {
    "papermill": {
     "duration": 0.015479,
     "end_time": "2024-06-24T20:38:42.592960",
     "exception": false,
     "start_time": "2024-06-24T20:38:42.577481",
     "status": "completed"
    },
    "tags": []
   },
   "source": [
    "# Data"
   ]
  },
  {
   "cell_type": "code",
   "execution_count": 2,
   "id": "e8c937f3",
   "metadata": {
    "execution": {
     "iopub.execute_input": "2024-06-24T20:38:42.624365Z",
     "iopub.status.busy": "2024-06-24T20:38:42.624002Z",
     "iopub.status.idle": "2024-06-24T20:38:43.248609Z",
     "shell.execute_reply": "2024-06-24T20:38:43.247573Z"
    },
    "papermill": {
     "duration": 0.643346,
     "end_time": "2024-06-24T20:38:43.250920",
     "exception": false,
     "start_time": "2024-06-24T20:38:42.607574",
     "status": "completed"
    },
    "tags": []
   },
   "outputs": [],
   "source": [
    "train_df = pd.read_csv(\"/kaggle/input/playground-series-s4e6/train.csv\")\n",
    "test_df = pd.read_csv(\"/kaggle/input/playground-series-s4e6/test.csv\")\n",
    "\n",
    "sample = pd.read_csv(\"/kaggle/input/playground-series-s4e6/sample_submission.csv\")"
   ]
  },
  {
   "cell_type": "code",
   "execution_count": 3,
   "id": "f303864f",
   "metadata": {
    "execution": {
     "iopub.execute_input": "2024-06-24T20:38:43.281863Z",
     "iopub.status.busy": "2024-06-24T20:38:43.281564Z",
     "iopub.status.idle": "2024-06-24T20:38:43.287426Z",
     "shell.execute_reply": "2024-06-24T20:38:43.286620Z"
    },
    "papermill": {
     "duration": 0.023174,
     "end_time": "2024-06-24T20:38:43.289245",
     "exception": false,
     "start_time": "2024-06-24T20:38:43.266071",
     "status": "completed"
    },
    "tags": []
   },
   "outputs": [],
   "source": [
    "ord_cols = [\"Application order\", \"Previous qualification\", \"Mother's qualification\", \"Father's qualification\"]\n",
    "\n",
    "cat_cols = [\"Marital status\", \"Application mode\", \"Nacionality\", \"Course\", \"Mother's occupation\", \"Father's occupation\", \n",
    "            \"Daytime/evening attendance\", \"Displaced\", \"Educational special needs\", \"Debtor\", \"Tuition fees up to date\", \n",
    "            \"Gender\", \"Scholarship holder\", \"International\"]\n",
    "\n",
    "num_cols = [\"Previous qualification (grade)\", \"Admission grade\", \"Age at enrollment\", \n",
    "            \"Curricular units 1st sem (credited)\", \"Curricular units 1st sem (enrolled)\", \"Curricular units 1st sem (evaluations)\", \n",
    "            \"Curricular units 1st sem (approved)\", \"Curricular units 1st sem (grade)\", \"Curricular units 1st sem (without evaluations)\", \n",
    "            \"Curricular units 2nd sem (credited)\", \"Curricular units 2nd sem (enrolled)\", \"Curricular units 2nd sem (evaluations)\", \n",
    "            \"Curricular units 2nd sem (approved)\", \"Curricular units 2nd sem (grade)\", \"Curricular units 2nd sem (without evaluations)\", \n",
    "            \"Unemployment rate\", \"Inflation rate\", \"GDP\"]\n",
    "\n",
    "target = [\"Target\"]"
   ]
  },
  {
   "cell_type": "markdown",
   "id": "b06cbe38",
   "metadata": {
    "papermill": {
     "duration": 0.014289,
     "end_time": "2024-06-24T20:38:43.318236",
     "exception": false,
     "start_time": "2024-06-24T20:38:43.303947",
     "status": "completed"
    },
    "tags": []
   },
   "source": [
    "# Imports"
   ]
  },
  {
   "cell_type": "code",
   "execution_count": 4,
   "id": "29f20af1",
   "metadata": {
    "execution": {
     "iopub.execute_input": "2024-06-24T20:38:43.348816Z",
     "iopub.status.busy": "2024-06-24T20:38:43.348574Z",
     "iopub.status.idle": "2024-06-24T20:39:04.840252Z",
     "shell.execute_reply": "2024-06-24T20:39:04.839296Z"
    },
    "papermill": {
     "duration": 21.509652,
     "end_time": "2024-06-24T20:39:04.842410",
     "exception": false,
     "start_time": "2024-06-24T20:38:43.332758",
     "status": "completed"
    },
    "tags": []
   },
   "outputs": [
    {
     "name": "stderr",
     "output_type": "stream",
     "text": [
      "2024-06-24 20:38:49.764923: E external/local_xla/xla/stream_executor/cuda/cuda_dnn.cc:9261] Unable to register cuDNN factory: Attempting to register factory for plugin cuDNN when one has already been registered\n",
      "2024-06-24 20:38:49.765015: E external/local_xla/xla/stream_executor/cuda/cuda_fft.cc:607] Unable to register cuFFT factory: Attempting to register factory for plugin cuFFT when one has already been registered\n",
      "2024-06-24 20:38:50.006354: E external/local_xla/xla/stream_executor/cuda/cuda_blas.cc:1515] Unable to register cuBLAS factory: Attempting to register factory for plugin cuBLAS when one has already been registered\n"
     ]
    },
    {
     "name": "stdout",
     "output_type": "stream",
     "text": [
      "Num GPUs Available:  2\n"
     ]
    }
   ],
   "source": [
    "from scipy import stats\n",
    "from sklearn.metrics import accuracy_score, precision_score, recall_score, f1_score, roc_auc_score, confusion_matrix, classification_report\n",
    "\n",
    "import matplotlib.pyplot as plt\n",
    "import seaborn as sns\n",
    "\n",
    "from sklearn.model_selection import train_test_split, GridSearchCV, cross_val_score\n",
    "from sklearn.compose import make_column_transformer, ColumnTransformer\n",
    "from sklearn.pipeline import Pipeline, make_pipeline\n",
    "from sklearn.impute import SimpleImputer\n",
    "from sklearn.preprocessing import OrdinalEncoder, StandardScaler, OneHotEncoder\n",
    "from sklearn.utils import class_weight\n",
    "\n",
    "import tensorflow as tf\n",
    "print(\"Num GPUs Available: \", len(tf.config.experimental.list_physical_devices('GPU')))\n",
    "import keras\n",
    "from keras import models\n",
    "from keras.models import Sequential\n",
    "from keras.callbacks import EarlyStopping\n",
    "from keras import layers\n",
    "from tensorflow.keras.layers import Dense, InputLayer\n",
    "\n",
    "import warnings\n",
    "warnings.filterwarnings('ignore')"
   ]
  },
  {
   "cell_type": "markdown",
   "id": "79c8fd68",
   "metadata": {
    "papermill": {
     "duration": 0.015824,
     "end_time": "2024-06-24T20:39:04.873902",
     "exception": false,
     "start_time": "2024-06-24T20:39:04.858078",
     "status": "completed"
    },
    "tags": []
   },
   "source": [
    "# Pipeline"
   ]
  },
  {
   "cell_type": "code",
   "execution_count": 5,
   "id": "4725eb47",
   "metadata": {
    "execution": {
     "iopub.execute_input": "2024-06-24T20:39:04.907642Z",
     "iopub.status.busy": "2024-06-24T20:39:04.906655Z",
     "iopub.status.idle": "2024-06-24T20:39:04.913067Z",
     "shell.execute_reply": "2024-06-24T20:39:04.912166Z"
    },
    "papermill": {
     "duration": 0.025445,
     "end_time": "2024-06-24T20:39:04.915006",
     "exception": false,
     "start_time": "2024-06-24T20:39:04.889561",
     "status": "completed"
    },
    "tags": []
   },
   "outputs": [],
   "source": [
    "num_pipeline = Pipeline(steps=[\n",
    "    ('impute', SimpleImputer(strategy='mean')),\n",
    "    ('scaler', StandardScaler())\n",
    "])\n",
    "\n",
    "\n",
    "ode_pipeline = Pipeline(steps=[\n",
    "    ('impute', SimpleImputer(strategy='most_frequent')),\n",
    "    ('ode', OrdinalEncoder(handle_unknown='use_encoded_value', unknown_value=-1))\n",
    "])\n",
    "\n",
    "\n",
    "ohe_pipeline = Pipeline(steps=[\n",
    "    ('impute', SimpleImputer(strategy='most_frequent')),\n",
    "    ('ohe', OneHotEncoder(handle_unknown='ignore', sparse_output=False))\n",
    "])"
   ]
  },
  {
   "cell_type": "code",
   "execution_count": 6,
   "id": "2a093d81",
   "metadata": {
    "execution": {
     "iopub.execute_input": "2024-06-24T20:39:04.947213Z",
     "iopub.status.busy": "2024-06-24T20:39:04.946953Z",
     "iopub.status.idle": "2024-06-24T20:39:04.951567Z",
     "shell.execute_reply": "2024-06-24T20:39:04.950703Z"
    },
    "papermill": {
     "duration": 0.023165,
     "end_time": "2024-06-24T20:39:04.953544",
     "exception": false,
     "start_time": "2024-06-24T20:39:04.930379",
     "status": "completed"
    },
    "tags": []
   },
   "outputs": [],
   "source": [
    "col_trans = ColumnTransformer(transformers=[\n",
    "    ('num_p', num_pipeline, num_cols),\n",
    "    ('ode_p', ode_pipeline, ord_cols),\n",
    "    ('ohe_p', ohe_pipeline, cat_cols),\n",
    "    ],\n",
    "    remainder='passthrough', \n",
    "    n_jobs=-1)"
   ]
  },
  {
   "cell_type": "code",
   "execution_count": 7,
   "id": "23e95ee8",
   "metadata": {
    "execution": {
     "iopub.execute_input": "2024-06-24T20:39:04.986355Z",
     "iopub.status.busy": "2024-06-24T20:39:04.985657Z",
     "iopub.status.idle": "2024-06-24T20:39:04.989711Z",
     "shell.execute_reply": "2024-06-24T20:39:04.988868Z"
    },
    "papermill": {
     "duration": 0.022599,
     "end_time": "2024-06-24T20:39:04.991676",
     "exception": false,
     "start_time": "2024-06-24T20:39:04.969077",
     "status": "completed"
    },
    "tags": []
   },
   "outputs": [],
   "source": [
    "pipeline = Pipeline(steps=[\n",
    "    ('preprocessing', col_trans)\n",
    "])"
   ]
  },
  {
   "cell_type": "code",
   "execution_count": 8,
   "id": "c347721c",
   "metadata": {
    "execution": {
     "iopub.execute_input": "2024-06-24T20:39:05.023988Z",
     "iopub.status.busy": "2024-06-24T20:39:05.023436Z",
     "iopub.status.idle": "2024-06-24T20:39:05.029714Z",
     "shell.execute_reply": "2024-06-24T20:39:05.028882Z"
    },
    "papermill": {
     "duration": 0.024522,
     "end_time": "2024-06-24T20:39:05.031671",
     "exception": false,
     "start_time": "2024-06-24T20:39:05.007149",
     "status": "completed"
    },
    "tags": []
   },
   "outputs": [],
   "source": [
    "def create_bargraphs(data, cat_cols):\n",
    "    for col in cat_cols:\n",
    "        data[col] = pd.Categorical(data[col], ordered=True)\n",
    "        category_counts = data[col].value_counts().sort_index()\n",
    "        plt.figure(figsize=(6, 4))\n",
    "        category_counts.plot(kind='bar')\n",
    "        plt.title(f'Bar Graph for {col}')\n",
    "        plt.xlabel(col)\n",
    "        plt.ylabel('Frequency')\n",
    "        plt.xticks(rotation=90, fontsize=6)\n",
    "        plt.grid(axis='y', linestyle='--', alpha=0.7)\n",
    "        plt.tight_layout()\n",
    "        plt.show()"
   ]
  },
  {
   "cell_type": "code",
   "execution_count": 9,
   "id": "1e79cb95",
   "metadata": {
    "execution": {
     "iopub.execute_input": "2024-06-24T20:39:05.063575Z",
     "iopub.status.busy": "2024-06-24T20:39:05.062933Z",
     "iopub.status.idle": "2024-06-24T20:39:05.509458Z",
     "shell.execute_reply": "2024-06-24T20:39:05.508613Z"
    },
    "papermill": {
     "duration": 0.464491,
     "end_time": "2024-06-24T20:39:05.511549",
     "exception": false,
     "start_time": "2024-06-24T20:39:05.047058",
     "status": "completed"
    },
    "tags": []
   },
   "outputs": [
    {
     "data": {
      "image/png": "[encoded data removed]",
      "text/plain": [
       "<Figure size 600x400 with 1 Axes>"
      ]
     },
     "metadata": {},
     "output_type": "display_data"
    }
   ],
   "source": [
    "create_bargraphs(train_df, target)"
   ]
  },
  {
   "cell_type": "code",
   "execution_count": 10,
   "id": "6d29680a",
   "metadata": {
    "execution": {
     "iopub.execute_input": "2024-06-24T20:39:05.544888Z",
     "iopub.status.busy": "2024-06-24T20:39:05.544288Z",
     "iopub.status.idle": "2024-06-24T20:39:05.558246Z",
     "shell.execute_reply": "2024-06-24T20:39:05.557567Z"
    },
    "papermill": {
     "duration": 0.032589,
     "end_time": "2024-06-24T20:39:05.560235",
     "exception": false,
     "start_time": "2024-06-24T20:39:05.527646",
     "status": "completed"
    },
    "tags": []
   },
   "outputs": [],
   "source": [
    "X = train_df.drop(columns=['id', 'Target'], axis=1)\n",
    "y = train_df['Target']"
   ]
  },
  {
   "cell_type": "code",
   "execution_count": 11,
   "id": "8087599d",
   "metadata": {
    "execution": {
     "iopub.execute_input": "2024-06-24T20:39:05.594191Z",
     "iopub.status.busy": "2024-06-24T20:39:05.593672Z",
     "iopub.status.idle": "2024-06-24T20:39:08.301094Z",
     "shell.execute_reply": "2024-06-24T20:39:08.299946Z"
    },
    "papermill": {
     "duration": 2.727121,
     "end_time": "2024-06-24T20:39:08.303672",
     "exception": false,
     "start_time": "2024-06-24T20:39:05.576551",
     "status": "completed"
    },
    "tags": []
   },
   "outputs": [],
   "source": [
    "X_preprocessed = pipeline.fit_transform(X)"
   ]
  },
  {
   "cell_type": "code",
   "execution_count": 12,
   "id": "9312af97",
   "metadata": {
    "execution": {
     "iopub.execute_input": "2024-06-24T20:39:08.338112Z",
     "iopub.status.busy": "2024-06-24T20:39:08.337763Z",
     "iopub.status.idle": "2024-06-24T20:39:08.345451Z",
     "shell.execute_reply": "2024-06-24T20:39:08.344520Z"
    },
    "papermill": {
     "duration": 0.027305,
     "end_time": "2024-06-24T20:39:08.347611",
     "exception": false,
     "start_time": "2024-06-24T20:39:08.320306",
     "status": "completed"
    },
    "tags": []
   },
   "outputs": [],
   "source": [
    "label_mapping = {'Dropout': 0, 'Enrolled': 1, 'Graduate': 2}\n",
    "encoded_y = y.map(label_mapping)"
   ]
  },
  {
   "cell_type": "code",
   "execution_count": 13,
   "id": "4ac75146",
   "metadata": {
    "execution": {
     "iopub.execute_input": "2024-06-24T20:39:08.382740Z",
     "iopub.status.busy": "2024-06-24T20:39:08.382191Z",
     "iopub.status.idle": "2024-06-24T20:39:08.386756Z",
     "shell.execute_reply": "2024-06-24T20:39:08.385891Z"
    },
    "papermill": {
     "duration": 0.023782,
     "end_time": "2024-06-24T20:39:08.388987",
     "exception": false,
     "start_time": "2024-06-24T20:39:08.365205",
     "status": "completed"
    },
    "tags": []
   },
   "outputs": [
    {
     "name": "stdout",
     "output_type": "stream",
     "text": [
      "category\n"
     ]
    }
   ],
   "source": [
    "print(encoded_y.dtype)"
   ]
  },
  {
   "cell_type": "code",
   "execution_count": 14,
   "id": "dff00ab4",
   "metadata": {
    "execution": {
     "iopub.execute_input": "2024-06-24T20:39:08.422427Z",
     "iopub.status.busy": "2024-06-24T20:39:08.422165Z",
     "iopub.status.idle": "2024-06-24T20:39:08.427380Z",
     "shell.execute_reply": "2024-06-24T20:39:08.426564Z"
    },
    "papermill": {
     "duration": 0.024393,
     "end_time": "2024-06-24T20:39:08.429528",
     "exception": false,
     "start_time": "2024-06-24T20:39:08.405135",
     "status": "completed"
    },
    "tags": []
   },
   "outputs": [],
   "source": [
    "encoded_y = encoded_y.astype(int)"
   ]
  },
  {
   "cell_type": "code",
   "execution_count": 15,
   "id": "715344d8",
   "metadata": {
    "execution": {
     "iopub.execute_input": "2024-06-24T20:39:08.464225Z",
     "iopub.status.busy": "2024-06-24T20:39:08.463960Z",
     "iopub.status.idle": "2024-06-24T20:39:08.467970Z",
     "shell.execute_reply": "2024-06-24T20:39:08.467158Z"
    },
    "papermill": {
     "duration": 0.023031,
     "end_time": "2024-06-24T20:39:08.470354",
     "exception": false,
     "start_time": "2024-06-24T20:39:08.447323",
     "status": "completed"
    },
    "tags": []
   },
   "outputs": [
    {
     "name": "stdout",
     "output_type": "stream",
     "text": [
      "int64\n"
     ]
    }
   ],
   "source": [
    "print(encoded_y.dtype)"
   ]
  },
  {
   "cell_type": "code",
   "execution_count": 16,
   "id": "948c1929",
   "metadata": {
    "execution": {
     "iopub.execute_input": "2024-06-24T20:39:08.503908Z",
     "iopub.status.busy": "2024-06-24T20:39:08.503572Z",
     "iopub.status.idle": "2024-06-24T20:39:08.558699Z",
     "shell.execute_reply": "2024-06-24T20:39:08.557662Z"
    },
    "papermill": {
     "duration": 0.074868,
     "end_time": "2024-06-24T20:39:08.561306",
     "exception": false,
     "start_time": "2024-06-24T20:39:08.486438",
     "status": "completed"
    },
    "tags": []
   },
   "outputs": [],
   "source": [
    "X_train, X_test, y_train, y_test = train_test_split(X_preprocessed, encoded_y, test_size=0.15, random_state=25)"
   ]
  },
  {
   "cell_type": "markdown",
   "id": "27926b81",
   "metadata": {
    "papermill": {
     "duration": 0.016466,
     "end_time": "2024-06-24T20:39:08.596133",
     "exception": false,
     "start_time": "2024-06-24T20:39:08.579667",
     "status": "completed"
    },
    "tags": []
   },
   "source": [
    "Before Resampling we will try using Class weights to influence our accuracy with our imbalanced data set"
   ]
  },
  {
   "cell_type": "markdown",
   "id": "c11a4efa",
   "metadata": {
    "papermill": {
     "duration": 0.015346,
     "end_time": "2024-06-24T20:39:08.626595",
     "exception": false,
     "start_time": "2024-06-24T20:39:08.611249",
     "status": "completed"
    },
    "tags": []
   },
   "source": [
    "# Class Weights"
   ]
  },
  {
   "cell_type": "code",
   "execution_count": 17,
   "id": "1b16670c",
   "metadata": {
    "execution": {
     "iopub.execute_input": "2024-06-24T20:39:08.699615Z",
     "iopub.status.busy": "2024-06-24T20:39:08.699260Z",
     "iopub.status.idle": "2024-06-24T20:39:08.725513Z",
     "shell.execute_reply": "2024-06-24T20:39:08.724414Z"
    },
    "papermill": {
     "duration": 0.046293,
     "end_time": "2024-06-24T20:39:08.727822",
     "exception": false,
     "start_time": "2024-06-24T20:39:08.681529",
     "status": "completed"
    },
    "tags": []
   },
   "outputs": [],
   "source": [
    "class_labels = np.unique(y_train)\n",
    "\n",
    "weights = class_weight.compute_class_weight('balanced', classes=class_labels, y=y_train)\n",
    "\n",
    "class_weights = dict(zip(class_labels, weights))"
   ]
  },
  {
   "cell_type": "code",
   "execution_count": 18,
   "id": "21b957ba",
   "metadata": {
    "execution": {
     "iopub.execute_input": "2024-06-24T20:39:08.772838Z",
     "iopub.status.busy": "2024-06-24T20:39:08.772516Z",
     "iopub.status.idle": "2024-06-24T20:39:08.778118Z",
     "shell.execute_reply": "2024-06-24T20:39:08.776764Z"
    },
    "papermill": {
     "duration": 0.028742,
     "end_time": "2024-06-24T20:39:08.780234",
     "exception": false,
     "start_time": "2024-06-24T20:39:08.751492",
     "status": "completed"
    },
    "tags": []
   },
   "outputs": [
    {
     "name": "stdout",
     "output_type": "stream",
     "text": [
      "{0: 1.0100633619083117, 1: 1.705072748721982, 2: 0.7025047794951557}\n"
     ]
    }
   ],
   "source": [
    "print(class_weights)"
   ]
  },
  {
   "cell_type": "markdown",
   "id": "9251a331",
   "metadata": {
    "papermill": {
     "duration": 0.015319,
     "end_time": "2024-06-24T20:39:08.812179",
     "exception": false,
     "start_time": "2024-06-24T20:39:08.796860",
     "status": "completed"
    },
    "tags": []
   },
   "source": [
    "**Class Weights is not working so we will instead move to Resampling, SMOTE, and/or KNN**"
   ]
  },
  {
   "cell_type": "markdown",
   "id": "c1b51139",
   "metadata": {
    "papermill": {
     "duration": 0.017963,
     "end_time": "2024-06-24T20:39:08.852353",
     "exception": false,
     "start_time": "2024-06-24T20:39:08.834390",
     "status": "completed"
    },
    "tags": []
   },
   "source": [
    "# Oversampling Minority Class"
   ]
  },
  {
   "cell_type": "code",
   "execution_count": 19,
   "id": "b65a1b74",
   "metadata": {
    "execution": {
     "iopub.execute_input": "2024-06-24T20:39:08.886593Z",
     "iopub.status.busy": "2024-06-24T20:39:08.886266Z",
     "iopub.status.idle": "2024-06-24T20:39:09.371186Z",
     "shell.execute_reply": "2024-06-24T20:39:09.370053Z"
    },
    "papermill": {
     "duration": 0.504825,
     "end_time": "2024-06-24T20:39:09.373540",
     "exception": false,
     "start_time": "2024-06-24T20:39:08.868715",
     "status": "completed"
    },
    "tags": []
   },
   "outputs": [
    {
     "name": "stdout",
     "output_type": "stream",
     "text": [
      "Before Over-Sampling: \n",
      "Samples in class 0:  25296\n",
      "Samples in class 1:  14940\n",
      "Samples in class 2:  36282\n"
     ]
    }
   ],
   "source": [
    "from imblearn.over_sampling import RandomOverSampler\n",
    "\n",
    "t = [(d) for d in encoded_y if d==0]\n",
    "s = [(d) for d in encoded_y if d==1]\n",
    "p = [(d) for d in encoded_y if d==2]\n",
    "print('Before Over-Sampling: ')\n",
    "print('Samples in class 0: ',len(t))\n",
    "print('Samples in class 1: ',len(s))\n",
    "print('Samples in class 2: ',len(p))"
   ]
  },
  {
   "cell_type": "code",
   "execution_count": 20,
   "id": "f1c121e4",
   "metadata": {
    "execution": {
     "iopub.execute_input": "2024-06-24T20:39:09.408897Z",
     "iopub.status.busy": "2024-06-24T20:39:09.407737Z",
     "iopub.status.idle": "2024-06-24T20:39:09.662779Z",
     "shell.execute_reply": "2024-06-24T20:39:09.661795Z"
    },
    "papermill": {
     "duration": 0.275854,
     "end_time": "2024-06-24T20:39:09.666013",
     "exception": false,
     "start_time": "2024-06-24T20:39:09.390159",
     "status": "completed"
    },
    "tags": []
   },
   "outputs": [
    {
     "name": "stdout",
     "output_type": "stream",
     "text": [
      "After Over-Sampling: \n",
      "Samples in class 0:  36282\n",
      "Samples in class 1:  36282\n",
      "Samples in class 2:  36282\n"
     ]
    }
   ],
   "source": [
    "OverS = RandomOverSampler(random_state=42)\n",
    "\n",
    "X_Over, Y_Over = OverS.fit_resample(X_preprocessed, encoded_y)\n",
    "\n",
    "# each class after Over-Sampling\n",
    "t = [(d) for d in Y_Over if d==0]\n",
    "s = [(d) for d in Y_Over if d==1]\n",
    "p = [(d) for d in Y_Over if d==2]\n",
    "print('After Over-Sampling: ')\n",
    "print('Samples in class 0: ',len(t))\n",
    "print('Samples in class 1: ',len(s))\n",
    "print('Samples in class 2: ',len(p))"
   ]
  },
  {
   "cell_type": "code",
   "execution_count": 21,
   "id": "01ed5c47",
   "metadata": {
    "execution": {
     "iopub.execute_input": "2024-06-24T20:39:09.709160Z",
     "iopub.status.busy": "2024-06-24T20:39:09.708799Z",
     "iopub.status.idle": "2024-06-24T20:39:09.791624Z",
     "shell.execute_reply": "2024-06-24T20:39:09.790454Z"
    },
    "papermill": {
     "duration": 0.103459,
     "end_time": "2024-06-24T20:39:09.794545",
     "exception": false,
     "start_time": "2024-06-24T20:39:09.691086",
     "status": "completed"
    },
    "tags": []
   },
   "outputs": [],
   "source": [
    "X_train, X_test, y_train, y_test = train_test_split(X_Over, Y_Over, test_size=0.15, random_state=25)"
   ]
  },
  {
   "cell_type": "markdown",
   "id": "089180dd",
   "metadata": {
    "papermill": {
     "duration": 0.023647,
     "end_time": "2024-06-24T20:39:09.842896",
     "exception": false,
     "start_time": "2024-06-24T20:39:09.819249",
     "status": "completed"
    },
    "tags": []
   },
   "source": [
    "**With Random Oversampling**"
   ]
  },
  {
   "cell_type": "markdown",
   "id": "35f1e57a",
   "metadata": {
    "papermill": {
     "duration": 0.018168,
     "end_time": "2024-06-24T20:39:09.877167",
     "exception": false,
     "start_time": "2024-06-24T20:39:09.858999",
     "status": "completed"
    },
    "tags": []
   },
   "source": [
    "                    precision    recall  f1-score   support\n",
    "\n",
    "         Dropout       0.86      0.81      0.84      5404\n",
    "        Enrolled       0.74      0.72      0.73      5561\n",
    "        Graduate       0.79      0.86      0.82      5362\n",
    "\n",
    "        accuracy                           0.80     16327\n",
    "       macro avg       0.80      0.80      0.80     16327\n",
    "    weighted avg       0.80      0.80      0.80     16327"
   ]
  },
  {
   "cell_type": "markdown",
   "id": "21c42a07",
   "metadata": {
    "papermill": {
     "duration": 0.017842,
     "end_time": "2024-06-24T20:39:09.916373",
     "exception": false,
     "start_time": "2024-06-24T20:39:09.898531",
     "status": "completed"
    },
    "tags": []
   },
   "source": [
    "Our accuracy is decreased however we are doing much better at predicting the \"Enrolled\" target value"
   ]
  },
  {
   "cell_type": "markdown",
   "id": "8796e5aa",
   "metadata": {
    "papermill": {
     "duration": 0.01707,
     "end_time": "2024-06-24T20:39:09.949359",
     "exception": false,
     "start_time": "2024-06-24T20:39:09.932289",
     "status": "completed"
    },
    "tags": []
   },
   "source": [
    "# Undersampling the Majority"
   ]
  },
  {
   "cell_type": "code",
   "execution_count": 22,
   "id": "b777f860",
   "metadata": {
    "execution": {
     "iopub.execute_input": "2024-06-24T20:39:09.983514Z",
     "iopub.status.busy": "2024-06-24T20:39:09.982720Z",
     "iopub.status.idle": "2024-06-24T20:39:10.097670Z",
     "shell.execute_reply": "2024-06-24T20:39:10.096690Z"
    },
    "papermill": {
     "duration": 0.134545,
     "end_time": "2024-06-24T20:39:10.099861",
     "exception": false,
     "start_time": "2024-06-24T20:39:09.965316",
     "status": "completed"
    },
    "tags": []
   },
   "outputs": [
    {
     "name": "stdout",
     "output_type": "stream",
     "text": [
      "Before Under-Sampling: \n",
      "Samples in class 0:  25296\n",
      "Samples in class 1:  14940\n",
      "Samples in class 2:  36282\n",
      "After Under-Sampling: \n",
      "Samples in class 0:  14940\n",
      "Samples in class 1:  14940\n",
      "Samples in class 2:  14940\n"
     ]
    }
   ],
   "source": [
    "from imblearn.under_sampling import RandomUnderSampler\n",
    "\n",
    "t = [(d) for d in encoded_y if d == 0]\n",
    "s = [(d) for d in encoded_y if d == 1]\n",
    "p = [(d) for d in encoded_y if d==2]\n",
    "\n",
    "print('Before Under-Sampling: ')\n",
    "print('Samples in class 0: ', len(t))\n",
    "print('Samples in class 1: ', len(s))\n",
    "print('Samples in class 2: ', len(p))\n",
    "\n",
    "UnderS = RandomUnderSampler(random_state=42,\n",
    "                            replacement=True)\n",
    "\n",
    "X_Under, Y_Under = UnderS.fit_resample(X_preprocessed, encoded_y)\n",
    "\n",
    "t = [(d) for d in Y_Under if d == 0]\n",
    "s = [(d) for d in Y_Under if d == 1]\n",
    "p = [(d) for d in Y_Under if d==2]\n",
    "\n",
    "print('After Under-Sampling: ')\n",
    "print('Samples in class 0: ', len(t))\n",
    "print('Samples in class 1: ', len(s))\n",
    "print('Samples in class 2: ', len(p))"
   ]
  },
  {
   "cell_type": "code",
   "execution_count": 23,
   "id": "8341f739",
   "metadata": {
    "execution": {
     "iopub.execute_input": "2024-06-24T20:39:10.139170Z",
     "iopub.status.busy": "2024-06-24T20:39:10.138456Z",
     "iopub.status.idle": "2024-06-24T20:39:10.173038Z",
     "shell.execute_reply": "2024-06-24T20:39:10.171963Z"
    },
    "papermill": {
     "duration": 0.058253,
     "end_time": "2024-06-24T20:39:10.176115",
     "exception": false,
     "start_time": "2024-06-24T20:39:10.117862",
     "status": "completed"
    },
    "tags": []
   },
   "outputs": [],
   "source": [
    "X_train, X_test, y_train, y_test = train_test_split(X_Under, Y_Under, test_size=0.15, random_state=25)"
   ]
  },
  {
   "cell_type": "markdown",
   "id": "9c235293",
   "metadata": {
    "papermill": {
     "duration": 0.015545,
     "end_time": "2024-06-24T20:39:10.209884",
     "exception": false,
     "start_time": "2024-06-24T20:39:10.194339",
     "status": "completed"
    },
    "tags": []
   },
   "source": [
    "**With Random UnderSampling**"
   ]
  },
  {
   "cell_type": "markdown",
   "id": "2f3438e4",
   "metadata": {
    "papermill": {
     "duration": 0.016972,
     "end_time": "2024-06-24T20:39:10.242883",
     "exception": false,
     "start_time": "2024-06-24T20:39:10.225911",
     "status": "completed"
    },
    "tags": []
   },
   "source": [
    "                    precision    recall  f1-score   support\n",
    "\n",
    "         Dropout       0.82      0.84      0.83      2241\n",
    "        Enrolled       0.74      0.62      0.68      2281\n",
    "        Graduate       0.75      0.85      0.80      2201\n",
    "\n",
    "        accuracy                           0.77      6723\n",
    "       macro avg       0.77      0.77      0.77      6723\n",
    "    weighted avg       0.77      0.77      0.77      6723"
   ]
  },
  {
   "cell_type": "markdown",
   "id": "855a9e1e",
   "metadata": {
    "papermill": {
     "duration": 0.017498,
     "end_time": "2024-06-24T20:39:10.277370",
     "exception": false,
     "start_time": "2024-06-24T20:39:10.259872",
     "status": "completed"
    },
    "tags": []
   },
   "source": [
    "# SMOTE"
   ]
  },
  {
   "cell_type": "code",
   "execution_count": 24,
   "id": "d1b04604",
   "metadata": {
    "execution": {
     "iopub.execute_input": "2024-06-24T20:39:10.309857Z",
     "iopub.status.busy": "2024-06-24T20:39:10.309517Z",
     "iopub.status.idle": "2024-06-24T20:39:15.603896Z",
     "shell.execute_reply": "2024-06-24T20:39:15.602896Z"
    },
    "papermill": {
     "duration": 5.313454,
     "end_time": "2024-06-24T20:39:15.606326",
     "exception": false,
     "start_time": "2024-06-24T20:39:10.292872",
     "status": "completed"
    },
    "tags": []
   },
   "outputs": [
    {
     "name": "stdout",
     "output_type": "stream",
     "text": [
      "Before Over-Sampling: \n",
      "Samples in class 0:  25296\n",
      "Samples in class 1:  14940\n",
      "Samples in class 2:  36282\n",
      "After Over-Sampling: \n",
      "Samples in class 0:  36282\n",
      "Samples in class 1:  36282\n",
      "Samples in class 2:  36282\n"
     ]
    }
   ],
   "source": [
    "from imblearn.over_sampling import SMOTE\n",
    "\n",
    "t = [(d) for d in encoded_y if d==0]\n",
    "s = [(d) for d in encoded_y if d==1]\n",
    "p = [(d) for d in encoded_y if d==2]\n",
    "\n",
    "print('Before Over-Sampling: ')\n",
    "\n",
    "print('Samples in class 0: ',len(t))\n",
    "print('Samples in class 1: ',len(s))\n",
    "print('Samples in class 2: ',len(p))\n",
    "\n",
    "smote = SMOTE()\n",
    "\n",
    "X_OverSmote, Y_OverSmote = smote.fit_resample(X_preprocessed, encoded_y)\n",
    "\n",
    "t = [(d) for d in Y_OverSmote if d==0]\n",
    "s = [(d) for d in Y_OverSmote if d==1]\n",
    "p = [(d) for d in Y_OverSmote if d==2]\n",
    "\n",
    "\n",
    "print('After Over-Sampling: ')\n",
    "print('Samples in class 0: ',len(t))\n",
    "print('Samples in class 1: ',len(s))\n",
    "print('Samples in class 2: ',len(p))"
   ]
  },
  {
   "cell_type": "code",
   "execution_count": 25,
   "id": "ec70f6cd",
   "metadata": {
    "execution": {
     "iopub.execute_input": "2024-06-24T20:39:15.642152Z",
     "iopub.status.busy": "2024-06-24T20:39:15.641385Z",
     "iopub.status.idle": "2024-06-24T20:39:15.709461Z",
     "shell.execute_reply": "2024-06-24T20:39:15.708636Z"
    },
    "papermill": {
     "duration": 0.087225,
     "end_time": "2024-06-24T20:39:15.711667",
     "exception": false,
     "start_time": "2024-06-24T20:39:15.624442",
     "status": "completed"
    },
    "tags": []
   },
   "outputs": [],
   "source": [
    "X_train, X_test, y_train, y_test = train_test_split(X_OverSmote, Y_OverSmote, test_size=0.15, random_state=25)"
   ]
  },
  {
   "cell_type": "markdown",
   "id": "d6e88dff",
   "metadata": {
    "papermill": {
     "duration": 0.016194,
     "end_time": "2024-06-24T20:39:15.744792",
     "exception": false,
     "start_time": "2024-06-24T20:39:15.728598",
     "status": "completed"
    },
    "tags": []
   },
   "source": [
    "**With SMOTE**"
   ]
  },
  {
   "cell_type": "markdown",
   "id": "df91b525",
   "metadata": {
    "papermill": {
     "duration": 0.015652,
     "end_time": "2024-06-24T20:39:15.776207",
     "exception": false,
     "start_time": "2024-06-24T20:39:15.760555",
     "status": "completed"
    },
    "tags": []
   },
   "source": [
    "                    precision    recall  f1-score   support\n",
    "\n",
    "         Dropout       0.88      0.81      0.85      5404\n",
    "        Enrolled       0.75      0.78      0.76      5561\n",
    "        Graduate       0.82      0.84      0.83      5362\n",
    "\n",
    "        accuracy                           0.81     16327\n",
    "       macro avg       0.82      0.81      0.81     16327\n",
    "    weighted avg       0.81      0.81      0.81     16327"
   ]
  },
  {
   "cell_type": "markdown",
   "id": "d0a9b827",
   "metadata": {
    "papermill": {
     "duration": 0.016198,
     "end_time": "2024-06-24T20:39:15.808443",
     "exception": false,
     "start_time": "2024-06-24T20:39:15.792245",
     "status": "completed"
    },
    "tags": []
   },
   "source": [
    "# KNN"
   ]
  },
  {
   "cell_type": "code",
   "execution_count": 26,
   "id": "c7d032d7",
   "metadata": {
    "execution": {
     "iopub.execute_input": "2024-06-24T20:39:15.841958Z",
     "iopub.status.busy": "2024-06-24T20:39:15.841613Z",
     "iopub.status.idle": "2024-06-24T20:40:10.614601Z",
     "shell.execute_reply": "2024-06-24T20:40:10.613789Z"
    },
    "papermill": {
     "duration": 54.792178,
     "end_time": "2024-06-24T20:40:10.617031",
     "exception": false,
     "start_time": "2024-06-24T20:39:15.824853",
     "status": "completed"
    },
    "tags": []
   },
   "outputs": [],
   "source": [
    "from sklearn.neighbors import KNeighborsClassifier\n",
    "\n",
    "knn = KNeighborsClassifier(n_neighbors=5)\n",
    "\n",
    "knn.fit(X_train, y_train)\n",
    "\n",
    "train_distances, _ = knn.kneighbors(X_train)\n",
    "test_distances, _ = knn.kneighbors(X_test)\n",
    "\n"
   ]
  },
  {
   "cell_type": "code",
   "execution_count": 27,
   "id": "a6957d54",
   "metadata": {
    "execution": {
     "iopub.execute_input": "2024-06-24T20:40:10.652196Z",
     "iopub.status.busy": "2024-06-24T20:40:10.651818Z",
     "iopub.status.idle": "2024-06-24T20:42:20.464717Z",
     "shell.execute_reply": "2024-06-24T20:42:20.463716Z"
    },
    "papermill": {
     "duration": 129.849642,
     "end_time": "2024-06-24T20:42:20.484523",
     "exception": false,
     "start_time": "2024-06-24T20:40:10.634881",
     "status": "completed"
    },
    "tags": []
   },
   "outputs": [
    {
     "data": {
      "image/png": "[encoded data removed]",
      "text/plain": [
       "<Figure size 640x480 with 1 Axes>"
      ]
     },
     "metadata": {},
     "output_type": "display_data"
    }
   ],
   "source": [
    "acc = {}\n",
    "for k in range(3, 30, 2):\n",
    "    knn = KNeighborsClassifier(n_neighbors=k)\n",
    "    knn.fit(X_train, y_train)\n",
    "    knn_pred = knn.predict(X_test)\n",
    "    acc[k] = accuracy_score(y_test, knn_pred)\n",
    "    \n",
    "# PLotting K v/s accuracy graph\n",
    "plt.plot(range(3,30,2), acc.values())\n",
    "plt.xlabel('K')\n",
    "plt.ylabel('Accuracy')\n",
    "plt.show()"
   ]
  },
  {
   "cell_type": "code",
   "execution_count": 28,
   "id": "88d52990",
   "metadata": {
    "execution": {
     "iopub.execute_input": "2024-06-24T20:42:20.519020Z",
     "iopub.status.busy": "2024-06-24T20:42:20.518235Z",
     "iopub.status.idle": "2024-06-24T20:42:30.373541Z",
     "shell.execute_reply": "2024-06-24T20:42:30.372529Z"
    },
    "papermill": {
     "duration": 9.87487,
     "end_time": "2024-06-24T20:42:30.375929",
     "exception": false,
     "start_time": "2024-06-24T20:42:20.501059",
     "status": "completed"
    },
    "tags": []
   },
   "outputs": [
    {
     "name": "stdout",
     "output_type": "stream",
     "text": [
      "0.7665829607398787\n",
      "              precision    recall  f1-score   support\n",
      "\n",
      "           0       0.90      0.73      0.81      5404\n",
      "           1       0.65      0.84      0.73      5561\n",
      "           2       0.82      0.73      0.77      5362\n",
      "\n",
      "    accuracy                           0.77     16327\n",
      "   macro avg       0.79      0.77      0.77     16327\n",
      "weighted avg       0.79      0.77      0.77     16327\n",
      "\n"
     ]
    }
   ],
   "source": [
    "knn = KNeighborsClassifier(n_neighbors=17)\n",
    "knn.fit(X_train, y_train)\n",
    "knn_pred = knn.predict(X_test)\n",
    "print(accuracy_score(y_test, knn_pred))\n",
    "print(classification_report(y_test, knn_pred))"
   ]
  },
  {
   "cell_type": "markdown",
   "id": "b7872c75",
   "metadata": {
    "papermill": {
     "duration": 0.018293,
     "end_time": "2024-06-24T20:42:30.411582",
     "exception": false,
     "start_time": "2024-06-24T20:42:30.393289",
     "status": "completed"
    },
    "tags": []
   },
   "source": [
    "acc = 0.785502700818958\n",
    "                   \n",
    "                   precision    recall  f1-score   support\n",
    "\n",
    "               0       0.90      0.75      0.82      3832\n",
    "               1       0.58      0.50      0.54      2225\n",
    "               2       0.79      0.93      0.85      5421\n",
    "\n",
    "        accuracy                           0.79     11478\n",
    "       macro avg       0.76      0.73      0.74     11478\n",
    "    weighted avg       0.79      0.79      0.78     11478\n"
   ]
  },
  {
   "cell_type": "markdown",
   "id": "f48d8302",
   "metadata": {
    "papermill": {
     "duration": 0.018118,
     "end_time": "2024-06-24T20:42:30.448086",
     "exception": false,
     "start_time": "2024-06-24T20:42:30.429968",
     "status": "completed"
    },
    "tags": []
   },
   "source": [
    "# Model Building"
   ]
  },
  {
   "cell_type": "code",
   "execution_count": 29,
   "id": "b7c1aa8b",
   "metadata": {
    "execution": {
     "iopub.execute_input": "2024-06-24T20:42:30.482161Z",
     "iopub.status.busy": "2024-06-24T20:42:30.481753Z",
     "iopub.status.idle": "2024-06-24T20:42:30.536978Z",
     "shell.execute_reply": "2024-06-24T20:42:30.535904Z"
    },
    "papermill": {
     "duration": 0.074823,
     "end_time": "2024-06-24T20:42:30.539387",
     "exception": false,
     "start_time": "2024-06-24T20:42:30.464564",
     "status": "completed"
    },
    "tags": []
   },
   "outputs": [],
   "source": [
    "X_train, X_test, y_train, y_test = train_test_split(X_preprocessed, encoded_y, test_size=0.15, random_state=25)"
   ]
  },
  {
   "cell_type": "code",
   "execution_count": 30,
   "id": "1047a9e5",
   "metadata": {
    "execution": {
     "iopub.execute_input": "2024-06-24T20:42:30.574299Z",
     "iopub.status.busy": "2024-06-24T20:42:30.573990Z",
     "iopub.status.idle": "2024-06-24T20:42:31.249257Z",
     "shell.execute_reply": "2024-06-24T20:42:31.248336Z"
    },
    "papermill": {
     "duration": 0.695195,
     "end_time": "2024-06-24T20:42:31.251606",
     "exception": false,
     "start_time": "2024-06-24T20:42:30.556411",
     "status": "completed"
    },
    "tags": []
   },
   "outputs": [
    {
     "data": {
      "text/html": [
       "<pre style=\"white-space:pre;overflow-x:auto;line-height:normal;font-family:Menlo,'DejaVu Sans Mono',consolas,'Courier New',monospace\"><span style=\"font-weight: bold\">Model: \"sequential\"</span>\n",
       "</pre>\n"
      ],
      "text/plain": [
       "\u001b[1mModel: \"sequential\"\u001b[0m\n"
      ]
     },
     "metadata": {},
     "output_type": "display_data"
    },
    {
     "data": {
      "text/html": [
       "<pre style=\"white-space:pre;overflow-x:auto;line-height:normal;font-family:Menlo,'DejaVu Sans Mono',consolas,'Courier New',monospace\">┏━━━━━━━━━━━━━━━━━━━━━━━━━━━━━━━━━┳━━━━━━━━━━━━━━━━━━━━━━━━┳━━━━━━━━━━━━━━━┓\n",
       "┃<span style=\"font-weight: bold\"> Layer (type)                    </span>┃<span style=\"font-weight: bold\"> Output Shape           </span>┃<span style=\"font-weight: bold\">       Param # </span>┃\n",
       "┡━━━━━━━━━━━━━━━━━━━━━━━━━━━━━━━━━╇━━━━━━━━━━━━━━━━━━━━━━━━╇━━━━━━━━━━━━━━━┩\n",
       "│ dense (<span style=\"color: #0087ff; text-decoration-color: #0087ff\">Dense</span>)                   │ (<span style=\"color: #00d7ff; text-decoration-color: #00d7ff\">None</span>, <span style=\"color: #00af00; text-decoration-color: #00af00\">16</span>)             │         <span style=\"color: #00af00; text-decoration-color: #00af00\">3,200</span> │\n",
       "├─────────────────────────────────┼────────────────────────┼───────────────┤\n",
       "│ dense_1 (<span style=\"color: #0087ff; text-decoration-color: #0087ff\">Dense</span>)                 │ (<span style=\"color: #00d7ff; text-decoration-color: #00d7ff\">None</span>, <span style=\"color: #00af00; text-decoration-color: #00af00\">64</span>)             │         <span style=\"color: #00af00; text-decoration-color: #00af00\">1,088</span> │\n",
       "├─────────────────────────────────┼────────────────────────┼───────────────┤\n",
       "│ dense_2 (<span style=\"color: #0087ff; text-decoration-color: #0087ff\">Dense</span>)                 │ (<span style=\"color: #00d7ff; text-decoration-color: #00d7ff\">None</span>, <span style=\"color: #00af00; text-decoration-color: #00af00\">64</span>)             │         <span style=\"color: #00af00; text-decoration-color: #00af00\">4,160</span> │\n",
       "├─────────────────────────────────┼────────────────────────┼───────────────┤\n",
       "│ dense_3 (<span style=\"color: #0087ff; text-decoration-color: #0087ff\">Dense</span>)                 │ (<span style=\"color: #00d7ff; text-decoration-color: #00d7ff\">None</span>, <span style=\"color: #00af00; text-decoration-color: #00af00\">16</span>)             │         <span style=\"color: #00af00; text-decoration-color: #00af00\">1,040</span> │\n",
       "├─────────────────────────────────┼────────────────────────┼───────────────┤\n",
       "│ dense_4 (<span style=\"color: #0087ff; text-decoration-color: #0087ff\">Dense</span>)                 │ (<span style=\"color: #00d7ff; text-decoration-color: #00d7ff\">None</span>, <span style=\"color: #00af00; text-decoration-color: #00af00\">3</span>)              │            <span style=\"color: #00af00; text-decoration-color: #00af00\">51</span> │\n",
       "└─────────────────────────────────┴────────────────────────┴───────────────┘\n",
       "</pre>\n"
      ],
      "text/plain": [
       "┏━━━━━━━━━━━━━━━━━━━━━━━━━━━━━━━━━┳━━━━━━━━━━━━━━━━━━━━━━━━┳━━━━━━━━━━━━━━━┓\n",
       "┃\u001b[1m \u001b[0m\u001b[1mLayer (type)                   \u001b[0m\u001b[1m \u001b[0m┃\u001b[1m \u001b[0m\u001b[1mOutput Shape          \u001b[0m\u001b[1m \u001b[0m┃\u001b[1m \u001b[0m\u001b[1m      Param #\u001b[0m\u001b[1m \u001b[0m┃\n",
       "┡━━━━━━━━━━━━━━━━━━━━━━━━━━━━━━━━━╇━━━━━━━━━━━━━━━━━━━━━━━━╇━━━━━━━━━━━━━━━┩\n",
       "│ dense (\u001b[38;5;33mDense\u001b[0m)                   │ (\u001b[38;5;45mNone\u001b[0m, \u001b[38;5;34m16\u001b[0m)             │         \u001b[38;5;34m3,200\u001b[0m │\n",
       "├─────────────────────────────────┼────────────────────────┼───────────────┤\n",
       "│ dense_1 (\u001b[38;5;33mDense\u001b[0m)                 │ (\u001b[38;5;45mNone\u001b[0m, \u001b[38;5;34m64\u001b[0m)             │         \u001b[38;5;34m1,088\u001b[0m │\n",
       "├─────────────────────────────────┼────────────────────────┼───────────────┤\n",
       "│ dense_2 (\u001b[38;5;33mDense\u001b[0m)                 │ (\u001b[38;5;45mNone\u001b[0m, \u001b[38;5;34m64\u001b[0m)             │         \u001b[38;5;34m4,160\u001b[0m │\n",
       "├─────────────────────────────────┼────────────────────────┼───────────────┤\n",
       "│ dense_3 (\u001b[38;5;33mDense\u001b[0m)                 │ (\u001b[38;5;45mNone\u001b[0m, \u001b[38;5;34m16\u001b[0m)             │         \u001b[38;5;34m1,040\u001b[0m │\n",
       "├─────────────────────────────────┼────────────────────────┼───────────────┤\n",
       "│ dense_4 (\u001b[38;5;33mDense\u001b[0m)                 │ (\u001b[38;5;45mNone\u001b[0m, \u001b[38;5;34m3\u001b[0m)              │            \u001b[38;5;34m51\u001b[0m │\n",
       "└─────────────────────────────────┴────────────────────────┴───────────────┘\n"
      ]
     },
     "metadata": {},
     "output_type": "display_data"
    },
    {
     "data": {
      "text/html": [
       "<pre style=\"white-space:pre;overflow-x:auto;line-height:normal;font-family:Menlo,'DejaVu Sans Mono',consolas,'Courier New',monospace\"><span style=\"font-weight: bold\"> Total params: </span><span style=\"color: #00af00; text-decoration-color: #00af00\">9,539</span> (37.26 KB)\n",
       "</pre>\n"
      ],
      "text/plain": [
       "\u001b[1m Total params: \u001b[0m\u001b[38;5;34m9,539\u001b[0m (37.26 KB)\n"
      ]
     },
     "metadata": {},
     "output_type": "display_data"
    },
    {
     "data": {
      "text/html": [
       "<pre style=\"white-space:pre;overflow-x:auto;line-height:normal;font-family:Menlo,'DejaVu Sans Mono',consolas,'Courier New',monospace\"><span style=\"font-weight: bold\"> Trainable params: </span><span style=\"color: #00af00; text-decoration-color: #00af00\">9,539</span> (37.26 KB)\n",
       "</pre>\n"
      ],
      "text/plain": [
       "\u001b[1m Trainable params: \u001b[0m\u001b[38;5;34m9,539\u001b[0m (37.26 KB)\n"
      ]
     },
     "metadata": {},
     "output_type": "display_data"
    },
    {
     "data": {
      "text/html": [
       "<pre style=\"white-space:pre;overflow-x:auto;line-height:normal;font-family:Menlo,'DejaVu Sans Mono',consolas,'Courier New',monospace\"><span style=\"font-weight: bold\"> Non-trainable params: </span><span style=\"color: #00af00; text-decoration-color: #00af00\">0</span> (0.00 B)\n",
       "</pre>\n"
      ],
      "text/plain": [
       "\u001b[1m Non-trainable params: \u001b[0m\u001b[38;5;34m0\u001b[0m (0.00 B)\n"
      ]
     },
     "metadata": {},
     "output_type": "display_data"
    },
    {
     "name": "stdout",
     "output_type": "stream",
     "text": [
      "None\n"
     ]
    }
   ],
   "source": [
    "model = models.Sequential([\n",
    "    layers.InputLayer(input_shape=(X_train.shape[1],)),\n",
    "    layers.Dense(16, activation='relu'),\n",
    "    layers.Dense(64, activation='relu'),\n",
    "    layers.Dense(64, activation='relu'),\n",
    "    layers.Dense(16, activation='relu'),\n",
    "    layers.Dense(3, activation='softmax')\n",
    "])\n",
    "\n",
    "model.compile(optimizer='adam',\n",
    "             loss='sparse_categorical_crossentropy',\n",
    "             metrics=['accuracy'])\n",
    "\n",
    "print(model.summary())"
   ]
  },
  {
   "cell_type": "code",
   "execution_count": 31,
   "id": "e3490b67",
   "metadata": {
    "execution": {
     "iopub.execute_input": "2024-06-24T20:42:31.289257Z",
     "iopub.status.busy": "2024-06-24T20:42:31.288595Z",
     "iopub.status.idle": "2024-06-24T20:42:31.294485Z",
     "shell.execute_reply": "2024-06-24T20:42:31.293646Z"
    },
    "papermill": {
     "duration": 0.027095,
     "end_time": "2024-06-24T20:42:31.296781",
     "exception": false,
     "start_time": "2024-06-24T20:42:31.269686",
     "status": "completed"
    },
    "tags": []
   },
   "outputs": [
    {
     "name": "stdout",
     "output_type": "stream",
     "text": [
      "float64\n",
      "int64\n",
      "68226    1\n",
      "50201    2\n",
      "58616    0\n",
      "74760    1\n",
      "43056    2\n",
      "        ..\n",
      "59314    1\n",
      "33943    2\n",
      "35702    0\n",
      "6618     0\n",
      "29828    2\n",
      "Name: Target, Length: 65040, dtype: int64\n"
     ]
    }
   ],
   "source": [
    "print(X_train.dtype)\n",
    "print(y_train.dtype)\n",
    "print(y_train)"
   ]
  },
  {
   "cell_type": "code",
   "execution_count": 32,
   "id": "3e6dffdb",
   "metadata": {
    "execution": {
     "iopub.execute_input": "2024-06-24T20:42:31.334909Z",
     "iopub.status.busy": "2024-06-24T20:42:31.334616Z",
     "iopub.status.idle": "2024-06-24T20:42:31.340220Z",
     "shell.execute_reply": "2024-06-24T20:42:31.339181Z"
    },
    "papermill": {
     "duration": 0.027217,
     "end_time": "2024-06-24T20:42:31.342468",
     "exception": false,
     "start_time": "2024-06-24T20:42:31.315251",
     "status": "completed"
    },
    "tags": []
   },
   "outputs": [
    {
     "name": "stdout",
     "output_type": "stream",
     "text": [
      "[0 1 2]\n",
      "{0: 1.0100633619083117, 1: 1.705072748721982, 2: 0.7025047794951557}\n"
     ]
    }
   ],
   "source": [
    "print(np.unique(y_train))\n",
    "print(class_weights)"
   ]
  },
  {
   "cell_type": "code",
   "execution_count": 33,
   "id": "12b18bc3",
   "metadata": {
    "execution": {
     "iopub.execute_input": "2024-06-24T20:42:31.380521Z",
     "iopub.status.busy": "2024-06-24T20:42:31.380246Z",
     "iopub.status.idle": "2024-06-24T20:48:40.210007Z",
     "shell.execute_reply": "2024-06-24T20:48:40.209000Z"
    },
    "papermill": {
     "duration": 368.850366,
     "end_time": "2024-06-24T20:48:40.212178",
     "exception": false,
     "start_time": "2024-06-24T20:42:31.361812",
     "status": "completed"
    },
    "tags": []
   },
   "outputs": [
    {
     "name": "stderr",
     "output_type": "stream",
     "text": [
      "WARNING: All log messages before absl::InitializeLog() is called are written to STDERR\n",
      "I0000 00:00:1719261755.321229     100 device_compiler.h:186] Compiled cluster using XLA!  This line is logged at most once for the lifetime of the process.\n"
     ]
    },
    {
     "name": "stdout",
     "output_type": "stream",
     "text": [
      "\u001b[1m359/359\u001b[0m \u001b[32m━━━━━━━━━━━━━━━━━━━━\u001b[0m\u001b[37m\u001b[0m \u001b[1m1s\u001b[0m 2ms/step - accuracy: 0.8156 - loss: 0.6632\n",
      "Test accuracy: 0.814514696598053\n"
     ]
    }
   ],
   "source": [
    "es = EarlyStopping(monitor='val_acc', mode='min', verbose=1, patience=15)\n",
    "\n",
    "history = model.fit(X_train, y_train, epochs=100, batch_size=25, validation_split=0.15, verbose=0, callbacks=[es])\n",
    "\n",
    "test_loss, test_acc = model.evaluate(X_test, y_test)\n",
    "\n",
    "print(f'Test accuracy: {test_acc}')"
   ]
  },
  {
   "cell_type": "code",
   "execution_count": 34,
   "id": "78624548",
   "metadata": {
    "execution": {
     "iopub.execute_input": "2024-06-24T20:48:40.250669Z",
     "iopub.status.busy": "2024-06-24T20:48:40.250368Z",
     "iopub.status.idle": "2024-06-24T20:48:40.502325Z",
     "shell.execute_reply": "2024-06-24T20:48:40.501532Z"
    },
    "papermill": {
     "duration": 0.273406,
     "end_time": "2024-06-24T20:48:40.504357",
     "exception": false,
     "start_time": "2024-06-24T20:48:40.230951",
     "status": "completed"
    },
    "tags": []
   },
   "outputs": [
    {
     "data": {
      "image/png": "[encoded data removed]",
      "text/plain": [
       "<Figure size 640x480 with 1 Axes>"
      ]
     },
     "metadata": {},
     "output_type": "display_data"
    }
   ],
   "source": [
    "plt.plot(history.history['accuracy'], label='accuracy')\n",
    "plt.plot(history.history['val_accuracy'], label = 'val_accuracy')\n",
    "plt.xlabel('Epoch')\n",
    "plt.ylabel('Accuracy')\n",
    "plt.ylim([0.5, 1])\n",
    "plt.legend(loc='lower right')\n",
    "plt.show()"
   ]
  },
  {
   "cell_type": "code",
   "execution_count": 35,
   "id": "73bbdd29",
   "metadata": {
    "execution": {
     "iopub.execute_input": "2024-06-24T20:48:40.545157Z",
     "iopub.status.busy": "2024-06-24T20:48:40.544422Z",
     "iopub.status.idle": "2024-06-24T20:48:40.551714Z",
     "shell.execute_reply": "2024-06-24T20:48:40.550794Z"
    },
    "papermill": {
     "duration": 0.029726,
     "end_time": "2024-06-24T20:48:40.553661",
     "exception": false,
     "start_time": "2024-06-24T20:48:40.523935",
     "status": "completed"
    },
    "tags": []
   },
   "outputs": [],
   "source": [
    "reverse_label_mapping = {0: 'Dropout', 1: 'Enrolled', 2: 'Graduate'}\n",
    "\n",
    "decoded_test = [reverse_label_mapping[label] for label in y_test]"
   ]
  },
  {
   "cell_type": "code",
   "execution_count": 36,
   "id": "bd6d97da",
   "metadata": {
    "execution": {
     "iopub.execute_input": "2024-06-24T20:48:40.594983Z",
     "iopub.status.busy": "2024-06-24T20:48:40.594678Z",
     "iopub.status.idle": "2024-06-24T20:48:41.835711Z",
     "shell.execute_reply": "2024-06-24T20:48:41.834112Z"
    },
    "papermill": {
     "duration": 1.265798,
     "end_time": "2024-06-24T20:48:41.839428",
     "exception": false,
     "start_time": "2024-06-24T20:48:40.573630",
     "status": "completed"
    },
    "tags": []
   },
   "outputs": [
    {
     "name": "stdout",
     "output_type": "stream",
     "text": [
      "\u001b[1m359/359\u001b[0m \u001b[32m━━━━━━━━━━━━━━━━━━━━\u001b[0m\u001b[37m\u001b[0m \u001b[1m1s\u001b[0m 2ms/step\n",
      "[0 1 0 ... 2 0 2]\n",
      "Accuracy:  0.8145147238194808\n"
     ]
    }
   ],
   "source": [
    "dnn_pred = model.predict(X_test)\n",
    "\n",
    "dnn_pred = np.argmax(dnn_pred, axis=1)\n",
    "\n",
    "#flattened = []\n",
    "\n",
    "print(dnn_pred)\n",
    "\n",
    "#for arr in dnn_pred:\n",
    "    #flattened.extend(arr)\n",
    "\n",
    "decoded_pred_dnn = [reverse_label_mapping[label] for label in dnn_pred]\n",
    "\n",
    "accuracy_dnn = accuracy_score(decoded_test, decoded_pred_dnn)\n",
    "\n",
    "print(\"Accuracy: \", accuracy_dnn)"
   ]
  },
  {
   "cell_type": "code",
   "execution_count": 37,
   "id": "1fa667d3",
   "metadata": {
    "execution": {
     "iopub.execute_input": "2024-06-24T20:48:41.887268Z",
     "iopub.status.busy": "2024-06-24T20:48:41.886924Z",
     "iopub.status.idle": "2024-06-24T20:48:42.064786Z",
     "shell.execute_reply": "2024-06-24T20:48:42.063815Z"
    },
    "papermill": {
     "duration": 0.202274,
     "end_time": "2024-06-24T20:48:42.067411",
     "exception": false,
     "start_time": "2024-06-24T20:48:41.865137",
     "status": "completed"
    },
    "tags": []
   },
   "outputs": [
    {
     "name": "stdout",
     "output_type": "stream",
     "text": [
      "              precision    recall  f1-score   support\n",
      "\n",
      "     Dropout       0.87      0.83      0.85      3832\n",
      "    Enrolled       0.62      0.57      0.59      2225\n",
      "    Graduate       0.85      0.91      0.88      5421\n",
      "\n",
      "    accuracy                           0.81     11478\n",
      "   macro avg       0.78      0.77      0.77     11478\n",
      "weighted avg       0.81      0.81      0.81     11478\n",
      "\n"
     ]
    }
   ],
   "source": [
    "print(classification_report(decoded_test, decoded_pred_dnn))"
   ]
  },
  {
   "cell_type": "markdown",
   "id": "0ca67f2b",
   "metadata": {
    "papermill": {
     "duration": 0.024347,
     "end_time": "2024-06-24T20:48:42.122121",
     "exception": false,
     "start_time": "2024-06-24T20:48:42.097774",
     "status": "completed"
    },
    "tags": []
   },
   "source": [
    "**Without Resampling the dataset**"
   ]
  },
  {
   "cell_type": "markdown",
   "id": "2e466d2e",
   "metadata": {
    "papermill": {
     "duration": 0.022206,
     "end_time": "2024-06-24T20:48:42.167018",
     "exception": false,
     "start_time": "2024-06-24T20:48:42.144812",
     "status": "completed"
    },
    "tags": []
   },
   "source": [
    "                   precision    recall  f1-score   support\n",
    "\n",
    "         Dropout       0.87      0.84      0.85      3832\n",
    "        Enrolled       0.62      0.58      0.60      2225\n",
    "        Graduate       0.85      0.91      0.88      5421\n",
    "\n",
    "        accuracy                           0.82     11478\n",
    "       macro avg       0.78      0.77      0.78     11478\n",
    "    weighted avg       0.82      0.82      0.82     11478"
   ]
  },
  {
   "cell_type": "markdown",
   "id": "de4b9a51",
   "metadata": {
    "papermill": {
     "duration": 0.022849,
     "end_time": "2024-06-24T20:48:42.212270",
     "exception": false,
     "start_time": "2024-06-24T20:48:42.189421",
     "status": "completed"
    },
    "tags": []
   },
   "source": [
    "# Submission"
   ]
  },
  {
   "cell_type": "code",
   "execution_count": 38,
   "id": "ff137dee",
   "metadata": {
    "execution": {
     "iopub.execute_input": "2024-06-24T20:48:42.257714Z",
     "iopub.status.busy": "2024-06-24T20:48:42.257382Z",
     "iopub.status.idle": "2024-06-24T20:48:44.696793Z",
     "shell.execute_reply": "2024-06-24T20:48:44.695713Z"
    },
    "papermill": {
     "duration": 2.464111,
     "end_time": "2024-06-24T20:48:44.699231",
     "exception": false,
     "start_time": "2024-06-24T20:48:42.235120",
     "status": "completed"
    },
    "tags": []
   },
   "outputs": [],
   "source": [
    "test_df_preprocessed = test_df.drop(\"id\", axis=1)\n",
    "\n",
    "test_df_preprocessed = pipeline.transform(test_df_preprocessed)"
   ]
  },
  {
   "cell_type": "code",
   "execution_count": 39,
   "id": "dd0022de",
   "metadata": {
    "execution": {
     "iopub.execute_input": "2024-06-24T20:48:44.741726Z",
     "iopub.status.busy": "2024-06-24T20:48:44.741408Z",
     "iopub.status.idle": "2024-06-24T20:48:48.166175Z",
     "shell.execute_reply": "2024-06-24T20:48:48.164718Z"
    },
    "papermill": {
     "duration": 3.448573,
     "end_time": "2024-06-24T20:48:48.168381",
     "exception": false,
     "start_time": "2024-06-24T20:48:44.719808",
     "status": "completed"
    },
    "tags": []
   },
   "outputs": [
    {
     "name": "stdout",
     "output_type": "stream",
     "text": [
      "\u001b[1m1595/1595\u001b[0m \u001b[32m━━━━━━━━━━━━━━━━━━━━\u001b[0m\u001b[37m\u001b[0m \u001b[1m2s\u001b[0m 1ms/step\n",
      "      id    Target\n",
      "0  76518   Dropout\n",
      "1  76519  Graduate\n",
      "2  76520  Graduate\n",
      "3  76521  Enrolled\n",
      "4  76522  Enrolled\n",
      "Submission data shape: (51012, 2)\n"
     ]
    }
   ],
   "source": [
    "sub_pred = model.predict(test_df_preprocessed)\n",
    "sub_pred = np.argmax(sub_pred, axis=1)\n",
    "\n",
    "decoded_sub = [reverse_label_mapping[label] for label in sub_pred]\n",
    "\n",
    "submission = pd.DataFrame({'id': test_df['id'], 'Target': decoded_sub})\n",
    "\n",
    "print(submission.head())\n",
    "print(f\"Submission data shape: {submission.shape}\")\n",
    "\n",
    "submission.to_csv('submission.csv', index=False)"
   ]
  },
  {
   "cell_type": "markdown",
   "id": "e42364d2",
   "metadata": {
    "papermill": {
     "duration": 0.023742,
     "end_time": "2024-06-24T20:48:48.217426",
     "exception": false,
     "start_time": "2024-06-24T20:48:48.193684",
     "status": "completed"
    },
    "tags": []
   },
   "source": [
    "# Conclusion"
   ]
  },
  {
   "cell_type": "markdown",
   "id": "c6466621",
   "metadata": {
    "papermill": {
     "duration": 0.022552,
     "end_time": "2024-06-24T20:48:48.262778",
     "exception": false,
     "start_time": "2024-06-24T20:48:48.240226",
     "status": "completed"
    },
    "tags": []
   },
   "source": [
    "While Resampling had a positive effect on predicting our \"Enrolled\" target, the noise it gave our model reduced our total accuracy to the point that not resampling still had a better accuracy score. Our K-Nearest Neighbors had similar results to our resampling as well. \n",
    "\n",
    "\n",
    "Overall, our best resampling method was SMOTE and our best model is still our base DNN model with the preprocessed pipeline and encoded y variables. This model does not beat our accuracy score we received on our CatBoostClassifier, however it does provide worthwhile insight into how resampling methods may affect a DNN. \n",
    "\n",
    "In the future, I'd like to keep trying to get class_weight to work as I believe it will have productive results in tuning our model to predict \"Enrolled\" with a higher f1-score and keep our high metrics for \"Dropout\" and \"Graduate\" from our baseline DNN model. "
   ]
  },
  {
   "cell_type": "markdown",
   "id": "20720ab3",
   "metadata": {
    "papermill": {
     "duration": 0.022716,
     "end_time": "2024-06-24T20:48:48.308329",
     "exception": false,
     "start_time": "2024-06-24T20:48:48.285613",
     "status": "completed"
    },
    "tags": []
   },
   "source": [
    "Next, I want to try to optimize our parameters using Optuna!"
   ]
  },
  {
   "cell_type": "markdown",
   "id": "90ea6bdb",
   "metadata": {
    "papermill": {
     "duration": 0.02319,
     "end_time": "2024-06-24T20:48:48.354292",
     "exception": false,
     "start_time": "2024-06-24T20:48:48.331102",
     "status": "completed"
    },
    "tags": []
   },
   "source": [
    "# Feedback"
   ]
  },
  {
   "cell_type": "markdown",
   "id": "c506eea5",
   "metadata": {
    "papermill": {
     "duration": 0.023105,
     "end_time": "2024-06-24T20:48:48.400540",
     "exception": false,
     "start_time": "2024-06-24T20:48:48.377435",
     "status": "completed"
    },
    "tags": []
   },
   "source": [
    "If anyone has suggestions on how to get class_weight to work properly please kindly send it my way as class_weight=class_weights when fitting has produced a KeyError: 1 everytime I have tried to call it. I believe this may be because we are working with a multi-class classification model however everything I've read online says that this should still work, and yet it won't. Thank you!!"
   ]
  }
 ],
 "metadata": {
  "kaggle": {
   "accelerator": "nvidiaTeslaT4",
   "dataSources": [
    {
     "databundleVersionId": 8710574,
     "sourceId": 73290,
     "sourceType": "competition"
    }
   ],
   "dockerImageVersionId": 30733,
   "isGpuEnabled": true,
   "isInternetEnabled": true,
   "language": "python",
   "sourceType": "notebook"
  },
  "kernelspec": {
   "display_name": "Python 3",
   "language": "python",
   "name": "python3"
  },
  "language_info": {
   "codemirror_mode": {
    "name": "ipython",
    "version": 3
   },
   "file_extension": ".py",
   "mimetype": "text/x-python",
   "name": "python",
   "nbconvert_exporter": "python",
   "pygments_lexer": "ipython3",
   "version": "3.10.13"
  },
  "papermill": {
   "default_parameters": {},
   "duration": 614.034392,
   "end_time": "2024-06-24T20:48:51.145734",
   "environment_variables": {},
   "exception": null,
   "input_path": "__notebook__.ipynb",
   "output_path": "__notebook__.ipynb",
   "parameters": {},
   "start_time": "2024-06-24T20:38:37.111342",
   "version": "2.5.0"
  }
 },
 "nbformat": 4,
 "nbformat_minor": 5
}
