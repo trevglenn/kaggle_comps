{
 "cells": [
  {
   "cell_type": "code",
   "execution_count": 1,
   "id": "a746d915",
   "metadata": {
    "_cell_guid": "b1076dfc-b9ad-4769-8c92-a6c4dae69d19",
    "_uuid": "8f2839f25d086af736a60e9eeb907d3b93b6e0e5",
    "execution": {
     "iopub.execute_input": "2024-06-22T01:31:51.948214Z",
     "iopub.status.busy": "2024-06-22T01:31:51.947869Z",
     "iopub.status.idle": "2024-06-22T01:31:53.243519Z",
     "shell.execute_reply": "2024-06-22T01:31:53.242016Z"
    },
    "papermill": {
     "duration": 1.313837,
     "end_time": "2024-06-22T01:31:53.245847",
     "exception": false,
     "start_time": "2024-06-22T01:31:51.932010",
     "status": "completed"
    },
    "tags": []
   },
   "outputs": [
    {
     "name": "stdout",
     "output_type": "stream",
     "text": [
      "/kaggle/input/playground-series-s4e6/sample_submission.csv\n",
      "/kaggle/input/playground-series-s4e6/train.csv\n",
      "/kaggle/input/playground-series-s4e6/test.csv\n"
     ]
    }
   ],
   "source": [
    "# This Python 3 environment comes with many helpful analytics libraries installed\n",
    "# It is defined by the kaggle/python Docker image: https://github.com/kaggle/docker-python\n",
    "# For example, here's several helpful packages to load\n",
    "\n",
    "import numpy as np # linear algebra\n",
    "import pandas as pd # data processing, CSV file I/O (e.g. pd.read_csv)\n",
    "\n",
    "# Input data files are available in the read-only \"../input/\" directory\n",
    "# For example, running this (by clicking run or pressing Shift+Enter) will list all files under the input directory\n",
    "\n",
    "import os\n",
    "for dirname, _, filenames in os.walk('/kaggle/input'):\n",
    "    for filename in filenames:\n",
    "        print(os.path.join(dirname, filename))\n",
    "\n",
    "# You can write up to 20GB to the current directory (/kaggle/working/) that gets preserved as output when you create a version using \"Save & Run All\" \n",
    "# You can also write temporary files to /kaggle/temp/, but they won't be saved outside of the current session"
   ]
  },
  {
   "cell_type": "markdown",
   "id": "d0657345",
   "metadata": {
    "papermill": {
     "duration": 0.013885,
     "end_time": "2024-06-22T01:31:53.274210",
     "exception": false,
     "start_time": "2024-06-22T01:31:53.260325",
     "status": "completed"
    },
    "tags": []
   },
   "source": [
    "# Data"
   ]
  },
  {
   "cell_type": "code",
   "execution_count": 2,
   "id": "f437452e",
   "metadata": {
    "execution": {
     "iopub.execute_input": "2024-06-22T01:31:53.305361Z",
     "iopub.status.busy": "2024-06-22T01:31:53.304973Z",
     "iopub.status.idle": "2024-06-22T01:31:53.937693Z",
     "shell.execute_reply": "2024-06-22T01:31:53.936762Z"
    },
    "papermill": {
     "duration": 0.651787,
     "end_time": "2024-06-22T01:31:53.940045",
     "exception": false,
     "start_time": "2024-06-22T01:31:53.288258",
     "status": "completed"
    },
    "tags": []
   },
   "outputs": [],
   "source": [
    "train_df = pd.read_csv(\"/kaggle/input/playground-series-s4e6/train.csv\")\n",
    "test_df = pd.read_csv(\"/kaggle/input/playground-series-s4e6/test.csv\")\n",
    "\n",
    "sample = pd.read_csv(\"/kaggle/input/playground-series-s4e6/sample_submission.csv\")"
   ]
  },
  {
   "cell_type": "code",
   "execution_count": 3,
   "id": "31dc6cd5",
   "metadata": {
    "execution": {
     "iopub.execute_input": "2024-06-22T01:31:53.970500Z",
     "iopub.status.busy": "2024-06-22T01:31:53.970204Z",
     "iopub.status.idle": "2024-06-22T01:31:53.976341Z",
     "shell.execute_reply": "2024-06-22T01:31:53.975461Z"
    },
    "papermill": {
     "duration": 0.023256,
     "end_time": "2024-06-22T01:31:53.978369",
     "exception": false,
     "start_time": "2024-06-22T01:31:53.955113",
     "status": "completed"
    },
    "tags": []
   },
   "outputs": [],
   "source": [
    "ord_cols = [\"Application order\", \"Previous qualification\", \"Mother's qualification\", \"Father's qualification\"]\n",
    "\n",
    "cat_cols = [\"Marital status\", \"Application mode\", \"Nacionality\", \"Course\", \"Mother's occupation\", \"Father's occupation\", \n",
    "            \"Daytime/evening attendance\", \"Displaced\", \"Educational special needs\", \"Debtor\", \"Tuition fees up to date\", \n",
    "            \"Gender\", \"Scholarship holder\", \"International\"]\n",
    "\n",
    "num_cols = [\"Previous qualification (grade)\", \"Admission grade\", \"Age at enrollment\", \n",
    "            \"Curricular units 1st sem (credited)\", \"Curricular units 1st sem (enrolled)\", \"Curricular units 1st sem (evaluations)\", \n",
    "            \"Curricular units 1st sem (approved)\", \"Curricular units 1st sem (grade)\", \"Curricular units 1st sem (without evaluations)\", \n",
    "            \"Curricular units 2nd sem (credited)\", \"Curricular units 2nd sem (enrolled)\", \"Curricular units 2nd sem (evaluations)\", \n",
    "            \"Curricular units 2nd sem (approved)\", \"Curricular units 2nd sem (grade)\", \"Curricular units 2nd sem (without evaluations)\", \n",
    "            \"Unemployment rate\", \"Inflation rate\", \"GDP\"]\n",
    "\n",
    "target = [\"Target\"]"
   ]
  },
  {
   "cell_type": "markdown",
   "id": "778c15a2",
   "metadata": {
    "papermill": {
     "duration": 0.013803,
     "end_time": "2024-06-22T01:31:54.006114",
     "exception": false,
     "start_time": "2024-06-22T01:31:53.992311",
     "status": "completed"
    },
    "tags": []
   },
   "source": [
    "# Imports"
   ]
  },
  {
   "cell_type": "code",
   "execution_count": 4,
   "id": "b73ea77d",
   "metadata": {
    "execution": {
     "iopub.execute_input": "2024-06-22T01:31:54.036808Z",
     "iopub.status.busy": "2024-06-22T01:31:54.036507Z",
     "iopub.status.idle": "2024-06-22T01:32:15.216665Z",
     "shell.execute_reply": "2024-06-22T01:32:15.215489Z"
    },
    "papermill": {
     "duration": 21.19856,
     "end_time": "2024-06-22T01:32:15.218931",
     "exception": false,
     "start_time": "2024-06-22T01:31:54.020371",
     "status": "completed"
    },
    "tags": []
   },
   "outputs": [
    {
     "name": "stderr",
     "output_type": "stream",
     "text": [
      "2024-06-22 01:32:00.361161: E external/local_xla/xla/stream_executor/cuda/cuda_dnn.cc:9261] Unable to register cuDNN factory: Attempting to register factory for plugin cuDNN when one has already been registered\n",
      "2024-06-22 01:32:00.361269: E external/local_xla/xla/stream_executor/cuda/cuda_fft.cc:607] Unable to register cuFFT factory: Attempting to register factory for plugin cuFFT when one has already been registered\n",
      "2024-06-22 01:32:00.613861: E external/local_xla/xla/stream_executor/cuda/cuda_blas.cc:1515] Unable to register cuBLAS factory: Attempting to register factory for plugin cuBLAS when one has already been registered\n"
     ]
    },
    {
     "name": "stdout",
     "output_type": "stream",
     "text": [
      "Num GPUs Available:  2\n"
     ]
    }
   ],
   "source": [
    "from scipy import stats\n",
    "from sklearn.metrics import accuracy_score, precision_score, recall_score, f1_score, roc_auc_score, confusion_matrix, classification_report\n",
    "\n",
    "import matplotlib.pyplot as plt\n",
    "import seaborn as sns\n",
    "\n",
    "from sklearn.model_selection import train_test_split, GridSearchCV, cross_val_score\n",
    "from sklearn.compose import make_column_transformer, ColumnTransformer\n",
    "from sklearn.pipeline import Pipeline, make_pipeline\n",
    "from sklearn.impute import SimpleImputer\n",
    "from sklearn.preprocessing import OrdinalEncoder, StandardScaler, OneHotEncoder\n",
    "from sklearn.utils import class_weight\n",
    "\n",
    "import tensorflow as tf\n",
    "print(\"Num GPUs Available: \", len(tf.config.experimental.list_physical_devices('GPU')))\n",
    "import keras\n",
    "from keras import models\n",
    "from keras.models import Sequential\n",
    "from keras.callbacks import EarlyStopping\n",
    "from keras import layers\n",
    "from tensorflow.keras.layers import Dense, InputLayer\n",
    "\n",
    "import warnings\n",
    "warnings.filterwarnings('ignore')"
   ]
  },
  {
   "cell_type": "markdown",
   "id": "f7d059fc",
   "metadata": {
    "papermill": {
     "duration": 0.015128,
     "end_time": "2024-06-22T01:32:15.249479",
     "exception": false,
     "start_time": "2024-06-22T01:32:15.234351",
     "status": "completed"
    },
    "tags": []
   },
   "source": [
    "# Pipeline"
   ]
  },
  {
   "cell_type": "code",
   "execution_count": 5,
   "id": "a5430a14",
   "metadata": {
    "execution": {
     "iopub.execute_input": "2024-06-22T01:32:15.281445Z",
     "iopub.status.busy": "2024-06-22T01:32:15.280818Z",
     "iopub.status.idle": "2024-06-22T01:32:15.287536Z",
     "shell.execute_reply": "2024-06-22T01:32:15.286600Z"
    },
    "papermill": {
     "duration": 0.024811,
     "end_time": "2024-06-22T01:32:15.289639",
     "exception": false,
     "start_time": "2024-06-22T01:32:15.264828",
     "status": "completed"
    },
    "tags": []
   },
   "outputs": [],
   "source": [
    "num_pipeline = Pipeline(steps=[\n",
    "    ('impute', SimpleImputer(strategy='mean')),\n",
    "    ('scaler', StandardScaler())\n",
    "])\n",
    "\n",
    "\n",
    "ode_pipeline = Pipeline(steps=[\n",
    "    ('impute', SimpleImputer(strategy='most_frequent')),\n",
    "    ('ode', OrdinalEncoder(handle_unknown='use_encoded_value', unknown_value=-1))\n",
    "])\n",
    "\n",
    "\n",
    "ohe_pipeline = Pipeline(steps=[\n",
    "    ('impute', SimpleImputer(strategy='most_frequent')),\n",
    "    ('ohe', OneHotEncoder(handle_unknown='ignore', sparse_output=False))\n",
    "])"
   ]
  },
  {
   "cell_type": "code",
   "execution_count": 6,
   "id": "38437e3e",
   "metadata": {
    "execution": {
     "iopub.execute_input": "2024-06-22T01:32:15.320485Z",
     "iopub.status.busy": "2024-06-22T01:32:15.320198Z",
     "iopub.status.idle": "2024-06-22T01:32:15.324999Z",
     "shell.execute_reply": "2024-06-22T01:32:15.324072Z"
    },
    "papermill": {
     "duration": 0.022623,
     "end_time": "2024-06-22T01:32:15.327083",
     "exception": false,
     "start_time": "2024-06-22T01:32:15.304460",
     "status": "completed"
    },
    "tags": []
   },
   "outputs": [],
   "source": [
    "col_trans = ColumnTransformer(transformers=[\n",
    "    ('num_p', num_pipeline, num_cols),\n",
    "    ('ode_p', ode_pipeline, ord_cols),\n",
    "    ('ohe_p', ohe_pipeline, cat_cols),\n",
    "    ],\n",
    "    remainder='passthrough', \n",
    "    n_jobs=-1)"
   ]
  },
  {
   "cell_type": "code",
   "execution_count": 7,
   "id": "1e7d3bde",
   "metadata": {
    "execution": {
     "iopub.execute_input": "2024-06-22T01:32:15.357281Z",
     "iopub.status.busy": "2024-06-22T01:32:15.356958Z",
     "iopub.status.idle": "2024-06-22T01:32:15.360967Z",
     "shell.execute_reply": "2024-06-22T01:32:15.360205Z"
    },
    "papermill": {
     "duration": 0.020968,
     "end_time": "2024-06-22T01:32:15.362831",
     "exception": false,
     "start_time": "2024-06-22T01:32:15.341863",
     "status": "completed"
    },
    "tags": []
   },
   "outputs": [],
   "source": [
    "pipeline = Pipeline(steps=[\n",
    "    ('preprocessing', col_trans)\n",
    "])"
   ]
  },
  {
   "cell_type": "code",
   "execution_count": 8,
   "id": "dd7f74f2",
   "metadata": {
    "execution": {
     "iopub.execute_input": "2024-06-22T01:32:15.394132Z",
     "iopub.status.busy": "2024-06-22T01:32:15.393862Z",
     "iopub.status.idle": "2024-06-22T01:32:15.400072Z",
     "shell.execute_reply": "2024-06-22T01:32:15.399176Z"
    },
    "papermill": {
     "duration": 0.023449,
     "end_time": "2024-06-22T01:32:15.402030",
     "exception": false,
     "start_time": "2024-06-22T01:32:15.378581",
     "status": "completed"
    },
    "tags": []
   },
   "outputs": [],
   "source": [
    "def create_bargraphs(data, cat_cols):\n",
    "    for col in cat_cols:\n",
    "        data[col] = pd.Categorical(data[col], ordered=True)\n",
    "        category_counts = data[col].value_counts().sort_index()\n",
    "        plt.figure(figsize=(6, 4))\n",
    "        category_counts.plot(kind='bar')\n",
    "        plt.title(f'Bar Graph for {col}')\n",
    "        plt.xlabel(col)\n",
    "        plt.ylabel('Frequency')\n",
    "        plt.xticks(rotation=90, fontsize=6)\n",
    "        plt.grid(axis='y', linestyle='--', alpha=0.7)\n",
    "        plt.tight_layout()\n",
    "        plt.show()"
   ]
  },
  {
   "cell_type": "code",
   "execution_count": 9,
   "id": "0ab642ee",
   "metadata": {
    "execution": {
     "iopub.execute_input": "2024-06-22T01:32:15.432420Z",
     "iopub.status.busy": "2024-06-22T01:32:15.432133Z",
     "iopub.status.idle": "2024-06-22T01:32:15.871801Z",
     "shell.execute_reply": "2024-06-22T01:32:15.870864Z"
    },
    "papermill": {
     "duration": 0.457318,
     "end_time": "2024-06-22T01:32:15.873754",
     "exception": false,
     "start_time": "2024-06-22T01:32:15.416436",
     "status": "completed"
    },
    "tags": []
   },
   "outputs": [
    {
     "data": {
      "image/png": "[encoded data removed]",
      "text/plain": [
       "<Figure size 600x400 with 1 Axes>"
      ]
     },
     "metadata": {},
     "output_type": "display_data"
    }
   ],
   "source": [
    "create_bargraphs(train_df, target)"
   ]
  },
  {
   "cell_type": "code",
   "execution_count": 10,
   "id": "39f453a6",
   "metadata": {
    "execution": {
     "iopub.execute_input": "2024-06-22T01:32:15.904657Z",
     "iopub.status.busy": "2024-06-22T01:32:15.904046Z",
     "iopub.status.idle": "2024-06-22T01:32:15.917050Z",
     "shell.execute_reply": "2024-06-22T01:32:15.916124Z"
    },
    "papermill": {
     "duration": 0.030983,
     "end_time": "2024-06-22T01:32:15.919519",
     "exception": false,
     "start_time": "2024-06-22T01:32:15.888536",
     "status": "completed"
    },
    "tags": []
   },
   "outputs": [],
   "source": [
    "X = train_df.drop(columns=['id', 'Target'], axis=1)\n",
    "y = train_df['Target']"
   ]
  },
  {
   "cell_type": "code",
   "execution_count": 11,
   "id": "7a5f69f1",
   "metadata": {
    "execution": {
     "iopub.execute_input": "2024-06-22T01:32:15.950554Z",
     "iopub.status.busy": "2024-06-22T01:32:15.950035Z",
     "iopub.status.idle": "2024-06-22T01:32:18.556534Z",
     "shell.execute_reply": "2024-06-22T01:32:18.555397Z"
    },
    "papermill": {
     "duration": 2.624429,
     "end_time": "2024-06-22T01:32:18.559063",
     "exception": false,
     "start_time": "2024-06-22T01:32:15.934634",
     "status": "completed"
    },
    "tags": []
   },
   "outputs": [],
   "source": [
    "X_preprocessed = pipeline.fit_transform(X)"
   ]
  },
  {
   "cell_type": "code",
   "execution_count": 12,
   "id": "50fc1029",
   "metadata": {
    "execution": {
     "iopub.execute_input": "2024-06-22T01:32:18.592649Z",
     "iopub.status.busy": "2024-06-22T01:32:18.591928Z",
     "iopub.status.idle": "2024-06-22T01:32:18.600069Z",
     "shell.execute_reply": "2024-06-22T01:32:18.599100Z"
    },
    "papermill": {
     "duration": 0.026962,
     "end_time": "2024-06-22T01:32:18.602034",
     "exception": false,
     "start_time": "2024-06-22T01:32:18.575072",
     "status": "completed"
    },
    "tags": []
   },
   "outputs": [],
   "source": [
    "label_mapping = {'Dropout': 0, 'Enrolled': 1, 'Graduate': 2}\n",
    "encoded_y = y.map(label_mapping)"
   ]
  },
  {
   "cell_type": "code",
   "execution_count": 13,
   "id": "da7cba6f",
   "metadata": {
    "execution": {
     "iopub.execute_input": "2024-06-22T01:32:18.633735Z",
     "iopub.status.busy": "2024-06-22T01:32:18.633206Z",
     "iopub.status.idle": "2024-06-22T01:32:18.638307Z",
     "shell.execute_reply": "2024-06-22T01:32:18.637147Z"
    },
    "papermill": {
     "duration": 0.023062,
     "end_time": "2024-06-22T01:32:18.640477",
     "exception": false,
     "start_time": "2024-06-22T01:32:18.617415",
     "status": "completed"
    },
    "tags": []
   },
   "outputs": [
    {
     "name": "stdout",
     "output_type": "stream",
     "text": [
      "category\n"
     ]
    }
   ],
   "source": [
    "print(encoded_y.dtype)"
   ]
  },
  {
   "cell_type": "code",
   "execution_count": 14,
   "id": "351dc98e",
   "metadata": {
    "execution": {
     "iopub.execute_input": "2024-06-22T01:32:18.671955Z",
     "iopub.status.busy": "2024-06-22T01:32:18.671709Z",
     "iopub.status.idle": "2024-06-22T01:32:18.676899Z",
     "shell.execute_reply": "2024-06-22T01:32:18.676177Z"
    },
    "papermill": {
     "duration": 0.023397,
     "end_time": "2024-06-22T01:32:18.679075",
     "exception": false,
     "start_time": "2024-06-22T01:32:18.655678",
     "status": "completed"
    },
    "tags": []
   },
   "outputs": [],
   "source": [
    "encoded_y = encoded_y.astype(int)"
   ]
  },
  {
   "cell_type": "code",
   "execution_count": 15,
   "id": "e1f10977",
   "metadata": {
    "execution": {
     "iopub.execute_input": "2024-06-22T01:32:18.712009Z",
     "iopub.status.busy": "2024-06-22T01:32:18.711733Z",
     "iopub.status.idle": "2024-06-22T01:32:18.715867Z",
     "shell.execute_reply": "2024-06-22T01:32:18.715114Z"
    },
    "papermill": {
     "duration": 0.022258,
     "end_time": "2024-06-22T01:32:18.717980",
     "exception": false,
     "start_time": "2024-06-22T01:32:18.695722",
     "status": "completed"
    },
    "tags": []
   },
   "outputs": [
    {
     "name": "stdout",
     "output_type": "stream",
     "text": [
      "int64\n"
     ]
    }
   ],
   "source": [
    "print(encoded_y.dtype)"
   ]
  },
  {
   "cell_type": "code",
   "execution_count": 16,
   "id": "3764747b",
   "metadata": {
    "execution": {
     "iopub.execute_input": "2024-06-22T01:32:18.750141Z",
     "iopub.status.busy": "2024-06-22T01:32:18.749877Z",
     "iopub.status.idle": "2024-06-22T01:32:18.803985Z",
     "shell.execute_reply": "2024-06-22T01:32:18.803162Z"
    },
    "papermill": {
     "duration": 0.072386,
     "end_time": "2024-06-22T01:32:18.806280",
     "exception": false,
     "start_time": "2024-06-22T01:32:18.733894",
     "status": "completed"
    },
    "tags": []
   },
   "outputs": [],
   "source": [
    "X_train, X_test, y_train, y_test = train_test_split(X_preprocessed, encoded_y, test_size=0.15, random_state=25)"
   ]
  },
  {
   "cell_type": "markdown",
   "id": "daa9bf9f",
   "metadata": {
    "papermill": {
     "duration": 0.014448,
     "end_time": "2024-06-22T01:32:18.835613",
     "exception": false,
     "start_time": "2024-06-22T01:32:18.821165",
     "status": "completed"
    },
    "tags": []
   },
   "source": [
    "Before Resampling we will try using Class weights to influence our accuracy with our imbalanced data set"
   ]
  },
  {
   "cell_type": "markdown",
   "id": "5d6f4667",
   "metadata": {
    "papermill": {
     "duration": 0.014139,
     "end_time": "2024-06-22T01:32:18.864088",
     "exception": false,
     "start_time": "2024-06-22T01:32:18.849949",
     "status": "completed"
    },
    "tags": []
   },
   "source": [
    "# Class Weights"
   ]
  },
  {
   "cell_type": "code",
   "execution_count": 17,
   "id": "9b261ed9",
   "metadata": {
    "execution": {
     "iopub.execute_input": "2024-06-22T01:32:18.935693Z",
     "iopub.status.busy": "2024-06-22T01:32:18.934996Z",
     "iopub.status.idle": "2024-06-22T01:32:18.955863Z",
     "shell.execute_reply": "2024-06-22T01:32:18.955140Z"
    },
    "papermill": {
     "duration": 0.03829,
     "end_time": "2024-06-22T01:32:18.957782",
     "exception": false,
     "start_time": "2024-06-22T01:32:18.919492",
     "status": "completed"
    },
    "tags": []
   },
   "outputs": [],
   "source": [
    "class_labels = np.unique(y_train)\n",
    "\n",
    "weights = class_weight.compute_class_weight('balanced', classes=class_labels, y=y_train)\n",
    "\n",
    "class_weights = dict(zip(class_labels, weights))"
   ]
  },
  {
   "cell_type": "code",
   "execution_count": 18,
   "id": "e65eddbb",
   "metadata": {
    "execution": {
     "iopub.execute_input": "2024-06-22T01:32:18.988102Z",
     "iopub.status.busy": "2024-06-22T01:32:18.987804Z",
     "iopub.status.idle": "2024-06-22T01:32:18.992225Z",
     "shell.execute_reply": "2024-06-22T01:32:18.991392Z"
    },
    "papermill": {
     "duration": 0.021775,
     "end_time": "2024-06-22T01:32:18.994377",
     "exception": false,
     "start_time": "2024-06-22T01:32:18.972602",
     "status": "completed"
    },
    "tags": []
   },
   "outputs": [
    {
     "name": "stdout",
     "output_type": "stream",
     "text": [
      "{0: 1.0100633619083117, 1: 1.705072748721982, 2: 0.7025047794951557}\n"
     ]
    }
   ],
   "source": [
    "print(class_weights)"
   ]
  },
  {
   "cell_type": "markdown",
   "id": "17633b98",
   "metadata": {
    "papermill": {
     "duration": 0.014806,
     "end_time": "2024-06-22T01:32:19.024403",
     "exception": false,
     "start_time": "2024-06-22T01:32:19.009597",
     "status": "completed"
    },
    "tags": []
   },
   "source": [
    "**Class Weights is not working so we will instead move to Resampling, SMOTE, and/or KNN**"
   ]
  },
  {
   "cell_type": "markdown",
   "id": "40e1cd54",
   "metadata": {
    "papermill": {
     "duration": 0.014612,
     "end_time": "2024-06-22T01:32:19.054124",
     "exception": false,
     "start_time": "2024-06-22T01:32:19.039512",
     "status": "completed"
    },
    "tags": []
   },
   "source": [
    "# Oversampling Minority Class"
   ]
  },
  {
   "cell_type": "code",
   "execution_count": 19,
   "id": "8da2fcc3",
   "metadata": {
    "execution": {
     "iopub.execute_input": "2024-06-22T01:32:19.085401Z",
     "iopub.status.busy": "2024-06-22T01:32:19.084804Z",
     "iopub.status.idle": "2024-06-22T01:32:19.506536Z",
     "shell.execute_reply": "2024-06-22T01:32:19.505630Z"
    },
    "papermill": {
     "duration": 0.440207,
     "end_time": "2024-06-22T01:32:19.508829",
     "exception": false,
     "start_time": "2024-06-22T01:32:19.068622",
     "status": "completed"
    },
    "tags": []
   },
   "outputs": [
    {
     "name": "stdout",
     "output_type": "stream",
     "text": [
      "Before Over-Sampling: \n",
      "Samples in class 0:  25296\n",
      "Samples in class 1:  14940\n",
      "Samples in class 2:  36282\n"
     ]
    }
   ],
   "source": [
    "from imblearn.over_sampling import RandomOverSampler\n",
    "\n",
    "t = [(d) for d in encoded_y if d==0]\n",
    "s = [(d) for d in encoded_y if d==1]\n",
    "p = [(d) for d in encoded_y if d==2]\n",
    "print('Before Over-Sampling: ')\n",
    "print('Samples in class 0: ',len(t))\n",
    "print('Samples in class 1: ',len(s))\n",
    "print('Samples in class 2: ',len(p))"
   ]
  },
  {
   "cell_type": "code",
   "execution_count": 20,
   "id": "a4caa344",
   "metadata": {
    "execution": {
     "iopub.execute_input": "2024-06-22T01:32:19.542104Z",
     "iopub.status.busy": "2024-06-22T01:32:19.541453Z",
     "iopub.status.idle": "2024-06-22T01:32:19.741904Z",
     "shell.execute_reply": "2024-06-22T01:32:19.740802Z"
    },
    "papermill": {
     "duration": 0.219388,
     "end_time": "2024-06-22T01:32:19.744157",
     "exception": false,
     "start_time": "2024-06-22T01:32:19.524769",
     "status": "completed"
    },
    "tags": []
   },
   "outputs": [
    {
     "name": "stdout",
     "output_type": "stream",
     "text": [
      "After Over-Sampling: \n",
      "Samples in class 0:  36282\n",
      "Samples in class 1:  36282\n",
      "Samples in class 2:  36282\n"
     ]
    }
   ],
   "source": [
    "OverS = RandomOverSampler(random_state=42)\n",
    "\n",
    "X_Over, Y_Over = OverS.fit_resample(X_preprocessed, encoded_y)\n",
    "\n",
    "# each class after Over-Sampling\n",
    "t = [(d) for d in Y_Over if d==0]\n",
    "s = [(d) for d in Y_Over if d==1]\n",
    "p = [(d) for d in Y_Over if d==2]\n",
    "print('After Over-Sampling: ')\n",
    "print('Samples in class 0: ',len(t))\n",
    "print('Samples in class 1: ',len(s))\n",
    "print('Samples in class 2: ',len(p))"
   ]
  },
  {
   "cell_type": "code",
   "execution_count": 21,
   "id": "cec85f34",
   "metadata": {
    "execution": {
     "iopub.execute_input": "2024-06-22T01:32:19.777541Z",
     "iopub.status.busy": "2024-06-22T01:32:19.777138Z",
     "iopub.status.idle": "2024-06-22T01:32:19.851716Z",
     "shell.execute_reply": "2024-06-22T01:32:19.850581Z"
    },
    "papermill": {
     "duration": 0.093745,
     "end_time": "2024-06-22T01:32:19.854276",
     "exception": false,
     "start_time": "2024-06-22T01:32:19.760531",
     "status": "completed"
    },
    "tags": []
   },
   "outputs": [],
   "source": [
    "X_train, X_test, y_train, y_test = train_test_split(X_Over, Y_Over, test_size=0.15, random_state=25)"
   ]
  },
  {
   "cell_type": "markdown",
   "id": "37e2dffa",
   "metadata": {
    "papermill": {
     "duration": 0.015523,
     "end_time": "2024-06-22T01:32:19.885458",
     "exception": false,
     "start_time": "2024-06-22T01:32:19.869935",
     "status": "completed"
    },
    "tags": []
   },
   "source": [
    "**With Random Oversampling**"
   ]
  },
  {
   "cell_type": "markdown",
   "id": "f0d94294",
   "metadata": {
    "papermill": {
     "duration": 0.015155,
     "end_time": "2024-06-22T01:32:19.916140",
     "exception": false,
     "start_time": "2024-06-22T01:32:19.900985",
     "status": "completed"
    },
    "tags": []
   },
   "source": [
    "                    precision    recall  f1-score   support\n",
    "\n",
    "         Dropout       0.86      0.81      0.84      5404\n",
    "        Enrolled       0.74      0.72      0.73      5561\n",
    "        Graduate       0.79      0.86      0.82      5362\n",
    "\n",
    "        accuracy                           0.80     16327\n",
    "       macro avg       0.80      0.80      0.80     16327\n",
    "    weighted avg       0.80      0.80      0.80     16327"
   ]
  },
  {
   "cell_type": "markdown",
   "id": "56a46d8c",
   "metadata": {
    "papermill": {
     "duration": 0.014717,
     "end_time": "2024-06-22T01:32:19.945762",
     "exception": false,
     "start_time": "2024-06-22T01:32:19.931045",
     "status": "completed"
    },
    "tags": []
   },
   "source": [
    "Our accuracy is decreased however we are doing much better at predicting the \"Enrolled\" target value"
   ]
  },
  {
   "cell_type": "markdown",
   "id": "6bb51858",
   "metadata": {
    "papermill": {
     "duration": 0.01496,
     "end_time": "2024-06-22T01:32:19.975595",
     "exception": false,
     "start_time": "2024-06-22T01:32:19.960635",
     "status": "completed"
    },
    "tags": []
   },
   "source": [
    "# Undersampling the Majority"
   ]
  },
  {
   "cell_type": "code",
   "execution_count": 22,
   "id": "e35efa74",
   "metadata": {
    "execution": {
     "iopub.execute_input": "2024-06-22T01:32:20.006546Z",
     "iopub.status.busy": "2024-06-22T01:32:20.006164Z",
     "iopub.status.idle": "2024-06-22T01:32:20.111381Z",
     "shell.execute_reply": "2024-06-22T01:32:20.110400Z"
    },
    "papermill": {
     "duration": 0.123283,
     "end_time": "2024-06-22T01:32:20.113710",
     "exception": false,
     "start_time": "2024-06-22T01:32:19.990427",
     "status": "completed"
    },
    "tags": []
   },
   "outputs": [
    {
     "name": "stdout",
     "output_type": "stream",
     "text": [
      "Before Under-Sampling: \n",
      "Samples in class 0:  25296\n",
      "Samples in class 1:  14940\n",
      "Samples in class 2:  36282\n",
      "After Under-Sampling: \n",
      "Samples in class 0:  14940\n",
      "Samples in class 1:  14940\n",
      "Samples in class 2:  14940\n"
     ]
    }
   ],
   "source": [
    "from imblearn.under_sampling import RandomUnderSampler\n",
    "\n",
    "t = [(d) for d in encoded_y if d == 0]\n",
    "s = [(d) for d in encoded_y if d == 1]\n",
    "p = [(d) for d in encoded_y if d==2]\n",
    "\n",
    "print('Before Under-Sampling: ')\n",
    "print('Samples in class 0: ', len(t))\n",
    "print('Samples in class 1: ', len(s))\n",
    "print('Samples in class 2: ', len(p))\n",
    "\n",
    "UnderS = RandomUnderSampler(random_state=42,\n",
    "                            replacement=True)\n",
    "\n",
    "X_Under, Y_Under = UnderS.fit_resample(X_preprocessed, encoded_y)\n",
    "\n",
    "t = [(d) for d in Y_Under if d == 0]\n",
    "s = [(d) for d in Y_Under if d == 1]\n",
    "p = [(d) for d in Y_Under if d==2]\n",
    "\n",
    "print('After Under-Sampling: ')\n",
    "print('Samples in class 0: ', len(t))\n",
    "print('Samples in class 1: ', len(s))\n",
    "print('Samples in class 2: ', len(p))"
   ]
  },
  {
   "cell_type": "code",
   "execution_count": 23,
   "id": "170e82d5",
   "metadata": {
    "execution": {
     "iopub.execute_input": "2024-06-22T01:32:20.145594Z",
     "iopub.status.busy": "2024-06-22T01:32:20.145293Z",
     "iopub.status.idle": "2024-06-22T01:32:20.179230Z",
     "shell.execute_reply": "2024-06-22T01:32:20.178403Z"
    },
    "papermill": {
     "duration": 0.052659,
     "end_time": "2024-06-22T01:32:20.181701",
     "exception": false,
     "start_time": "2024-06-22T01:32:20.129042",
     "status": "completed"
    },
    "tags": []
   },
   "outputs": [],
   "source": [
    "X_train, X_test, y_train, y_test = train_test_split(X_Under, Y_Under, test_size=0.15, random_state=25)"
   ]
  },
  {
   "cell_type": "markdown",
   "id": "c0879d77",
   "metadata": {
    "papermill": {
     "duration": 0.014911,
     "end_time": "2024-06-22T01:32:20.211956",
     "exception": false,
     "start_time": "2024-06-22T01:32:20.197045",
     "status": "completed"
    },
    "tags": []
   },
   "source": [
    "**With Random UnderSampling**"
   ]
  },
  {
   "cell_type": "markdown",
   "id": "ab9cfab5",
   "metadata": {
    "papermill": {
     "duration": 0.015163,
     "end_time": "2024-06-22T01:32:20.242007",
     "exception": false,
     "start_time": "2024-06-22T01:32:20.226844",
     "status": "completed"
    },
    "tags": []
   },
   "source": [
    "                    precision    recall  f1-score   support\n",
    "\n",
    "         Dropout       0.82      0.84      0.83      2241\n",
    "        Enrolled       0.74      0.62      0.68      2281\n",
    "        Graduate       0.75      0.85      0.80      2201\n",
    "\n",
    "        accuracy                           0.77      6723\n",
    "       macro avg       0.77      0.77      0.77      6723\n",
    "    weighted avg       0.77      0.77      0.77      6723"
   ]
  },
  {
   "cell_type": "markdown",
   "id": "78c44fb3",
   "metadata": {
    "papermill": {
     "duration": 0.014637,
     "end_time": "2024-06-22T01:32:20.273465",
     "exception": false,
     "start_time": "2024-06-22T01:32:20.258828",
     "status": "completed"
    },
    "tags": []
   },
   "source": [
    "# SMOTE"
   ]
  },
  {
   "cell_type": "code",
   "execution_count": 24,
   "id": "d234a0e2",
   "metadata": {
    "execution": {
     "iopub.execute_input": "2024-06-22T01:32:20.305483Z",
     "iopub.status.busy": "2024-06-22T01:32:20.304803Z",
     "iopub.status.idle": "2024-06-22T01:32:25.743795Z",
     "shell.execute_reply": "2024-06-22T01:32:25.742499Z"
    },
    "papermill": {
     "duration": 5.457425,
     "end_time": "2024-06-22T01:32:25.745924",
     "exception": false,
     "start_time": "2024-06-22T01:32:20.288499",
     "status": "completed"
    },
    "tags": []
   },
   "outputs": [
    {
     "name": "stdout",
     "output_type": "stream",
     "text": [
      "Before Over-Sampling: \n",
      "Samples in class 0:  25296\n",
      "Samples in class 1:  14940\n",
      "Samples in class 2:  36282\n",
      "After Over-Sampling: \n",
      "Samples in class 0:  36282\n",
      "Samples in class 1:  36282\n",
      "Samples in class 2:  36282\n"
     ]
    }
   ],
   "source": [
    "from imblearn.over_sampling import SMOTE\n",
    "\n",
    "t = [(d) for d in encoded_y if d==0]\n",
    "s = [(d) for d in encoded_y if d==1]\n",
    "p = [(d) for d in encoded_y if d==2]\n",
    "\n",
    "print('Before Over-Sampling: ')\n",
    "\n",
    "print('Samples in class 0: ',len(t))\n",
    "print('Samples in class 1: ',len(s))\n",
    "print('Samples in class 2: ',len(p))\n",
    "\n",
    "smote = SMOTE()\n",
    "\n",
    "X_OverSmote, Y_OverSmote = smote.fit_resample(X_preprocessed, encoded_y)\n",
    "\n",
    "t = [(d) for d in Y_OverSmote if d==0]\n",
    "s = [(d) for d in Y_OverSmote if d==1]\n",
    "p = [(d) for d in Y_OverSmote if d==2]\n",
    "\n",
    "\n",
    "print('After Over-Sampling: ')\n",
    "print('Samples in class 0: ',len(t))\n",
    "print('Samples in class 1: ',len(s))\n",
    "print('Samples in class 2: ',len(p))"
   ]
  },
  {
   "cell_type": "code",
   "execution_count": 25,
   "id": "ff90e018",
   "metadata": {
    "execution": {
     "iopub.execute_input": "2024-06-22T01:32:25.779970Z",
     "iopub.status.busy": "2024-06-22T01:32:25.779678Z",
     "iopub.status.idle": "2024-06-22T01:32:25.848553Z",
     "shell.execute_reply": "2024-06-22T01:32:25.847694Z"
    },
    "papermill": {
     "duration": 0.088508,
     "end_time": "2024-06-22T01:32:25.851047",
     "exception": false,
     "start_time": "2024-06-22T01:32:25.762539",
     "status": "completed"
    },
    "tags": []
   },
   "outputs": [],
   "source": [
    "X_train, X_test, y_train, y_test = train_test_split(X_OverSmote, Y_OverSmote, test_size=0.15, random_state=25)"
   ]
  },
  {
   "cell_type": "markdown",
   "id": "5265107c",
   "metadata": {
    "papermill": {
     "duration": 0.014955,
     "end_time": "2024-06-22T01:32:25.883418",
     "exception": false,
     "start_time": "2024-06-22T01:32:25.868463",
     "status": "completed"
    },
    "tags": []
   },
   "source": [
    "**With SMOTE**"
   ]
  },
  {
   "cell_type": "markdown",
   "id": "2b40c6c2",
   "metadata": {
    "papermill": {
     "duration": 0.014776,
     "end_time": "2024-06-22T01:32:25.913130",
     "exception": false,
     "start_time": "2024-06-22T01:32:25.898354",
     "status": "completed"
    },
    "tags": []
   },
   "source": [
    "                    precision    recall  f1-score   support\n",
    "\n",
    "         Dropout       0.88      0.81      0.85      5404\n",
    "        Enrolled       0.75      0.78      0.76      5561\n",
    "        Graduate       0.82      0.84      0.83      5362\n",
    "\n",
    "        accuracy                           0.81     16327\n",
    "       macro avg       0.82      0.81      0.81     16327\n",
    "    weighted avg       0.81      0.81      0.81     16327"
   ]
  },
  {
   "cell_type": "markdown",
   "id": "bd432efc",
   "metadata": {
    "papermill": {
     "duration": 0.014895,
     "end_time": "2024-06-22T01:32:25.943486",
     "exception": false,
     "start_time": "2024-06-22T01:32:25.928591",
     "status": "completed"
    },
    "tags": []
   },
   "source": [
    "# KNN"
   ]
  },
  {
   "cell_type": "code",
   "execution_count": 26,
   "id": "a53f6c61",
   "metadata": {
    "execution": {
     "iopub.execute_input": "2024-06-22T01:32:25.974670Z",
     "iopub.status.busy": "2024-06-22T01:32:25.974364Z",
     "iopub.status.idle": "2024-06-22T01:33:21.336178Z",
     "shell.execute_reply": "2024-06-22T01:33:21.335326Z"
    },
    "papermill": {
     "duration": 55.38002,
     "end_time": "2024-06-22T01:33:21.338552",
     "exception": false,
     "start_time": "2024-06-22T01:32:25.958532",
     "status": "completed"
    },
    "tags": []
   },
   "outputs": [],
   "source": [
    "from sklearn.neighbors import KNeighborsClassifier\n",
    "\n",
    "knn = KNeighborsClassifier(n_neighbors=5)\n",
    "\n",
    "knn.fit(X_train, y_train)\n",
    "\n",
    "train_distances, _ = knn.kneighbors(X_train)\n",
    "test_distances, _ = knn.kneighbors(X_test)\n",
    "\n"
   ]
  },
  {
   "cell_type": "code",
   "execution_count": 27,
   "id": "58b62816",
   "metadata": {
    "execution": {
     "iopub.execute_input": "2024-06-22T01:33:21.372097Z",
     "iopub.status.busy": "2024-06-22T01:33:21.371381Z",
     "iopub.status.idle": "2024-06-22T01:35:29.327952Z",
     "shell.execute_reply": "2024-06-22T01:35:29.326948Z"
    },
    "papermill": {
     "duration": 127.990145,
     "end_time": "2024-06-22T01:35:29.345593",
     "exception": false,
     "start_time": "2024-06-22T01:33:21.355448",
     "status": "completed"
    },
    "tags": []
   },
   "outputs": [
    {
     "data": {
      "image/png": "[encoded data removed]",
      "text/plain": [
       "<Figure size 640x480 with 1 Axes>"
      ]
     },
     "metadata": {},
     "output_type": "display_data"
    }
   ],
   "source": [
    "acc = {}\n",
    "for k in range(3, 30, 2):\n",
    "    knn = KNeighborsClassifier(n_neighbors=k)\n",
    "    knn.fit(X_train, y_train)\n",
    "    knn_pred = knn.predict(X_test)\n",
    "    acc[k] = accuracy_score(y_test, knn_pred)\n",
    "    \n",
    "# PLotting K v/s accuracy graph\n",
    "plt.plot(range(3,30,2), acc.values())\n",
    "plt.xlabel('K')\n",
    "plt.ylabel('Accuracy')\n",
    "plt.show()"
   ]
  },
  {
   "cell_type": "code",
   "execution_count": 28,
   "id": "143d068d",
   "metadata": {
    "execution": {
     "iopub.execute_input": "2024-06-22T01:35:29.377564Z",
     "iopub.status.busy": "2024-06-22T01:35:29.377274Z",
     "iopub.status.idle": "2024-06-22T01:35:38.290575Z",
     "shell.execute_reply": "2024-06-22T01:35:38.289550Z"
    },
    "papermill": {
     "duration": 8.932018,
     "end_time": "2024-06-22T01:35:38.293027",
     "exception": false,
     "start_time": "2024-06-22T01:35:29.361009",
     "status": "completed"
    },
    "tags": []
   },
   "outputs": [
    {
     "name": "stdout",
     "output_type": "stream",
     "text": [
      "0.7692778832608562\n",
      "              precision    recall  f1-score   support\n",
      "\n",
      "           0       0.90      0.73      0.80      5404\n",
      "           1       0.66      0.84      0.74      5561\n",
      "           2       0.82      0.74      0.78      5362\n",
      "\n",
      "    accuracy                           0.77     16327\n",
      "   macro avg       0.79      0.77      0.77     16327\n",
      "weighted avg       0.79      0.77      0.77     16327\n",
      "\n"
     ]
    }
   ],
   "source": [
    "knn = KNeighborsClassifier(n_neighbors=17)\n",
    "knn.fit(X_train, y_train)\n",
    "knn_pred = knn.predict(X_test)\n",
    "print(accuracy_score(y_test, knn_pred))\n",
    "print(classification_report(y_test, knn_pred))"
   ]
  },
  {
   "cell_type": "markdown",
   "id": "40ec1387",
   "metadata": {
    "papermill": {
     "duration": 0.015079,
     "end_time": "2024-06-22T01:35:38.324644",
     "exception": false,
     "start_time": "2024-06-22T01:35:38.309565",
     "status": "completed"
    },
    "tags": []
   },
   "source": [
    "acc = 0.785502700818958\n",
    "                   \n",
    "                   precision    recall  f1-score   support\n",
    "\n",
    "               0       0.90      0.75      0.82      3832\n",
    "               1       0.58      0.50      0.54      2225\n",
    "               2       0.79      0.93      0.85      5421\n",
    "\n",
    "        accuracy                           0.79     11478\n",
    "       macro avg       0.76      0.73      0.74     11478\n",
    "    weighted avg       0.79      0.79      0.78     11478\n"
   ]
  },
  {
   "cell_type": "markdown",
   "id": "df44bc25",
   "metadata": {
    "papermill": {
     "duration": 0.015365,
     "end_time": "2024-06-22T01:35:38.355467",
     "exception": false,
     "start_time": "2024-06-22T01:35:38.340102",
     "status": "completed"
    },
    "tags": []
   },
   "source": [
    "# Model Building"
   ]
  },
  {
   "cell_type": "code",
   "execution_count": 29,
   "id": "eb0c807a",
   "metadata": {
    "execution": {
     "iopub.execute_input": "2024-06-22T01:35:38.389963Z",
     "iopub.status.busy": "2024-06-22T01:35:38.389615Z",
     "iopub.status.idle": "2024-06-22T01:35:38.444894Z",
     "shell.execute_reply": "2024-06-22T01:35:38.443996Z"
    },
    "papermill": {
     "duration": 0.075624,
     "end_time": "2024-06-22T01:35:38.447532",
     "exception": false,
     "start_time": "2024-06-22T01:35:38.371908",
     "status": "completed"
    },
    "tags": []
   },
   "outputs": [],
   "source": [
    "X_train, X_test, y_train, y_test = train_test_split(X_preprocessed, encoded_y, test_size=0.15, random_state=25)"
   ]
  },
  {
   "cell_type": "code",
   "execution_count": 30,
   "id": "6276ba0e",
   "metadata": {
    "execution": {
     "iopub.execute_input": "2024-06-22T01:35:38.482900Z",
     "iopub.status.busy": "2024-06-22T01:35:38.482599Z",
     "iopub.status.idle": "2024-06-22T01:35:39.123301Z",
     "shell.execute_reply": "2024-06-22T01:35:39.122460Z"
    },
    "papermill": {
     "duration": 0.659798,
     "end_time": "2024-06-22T01:35:39.125504",
     "exception": false,
     "start_time": "2024-06-22T01:35:38.465706",
     "status": "completed"
    },
    "tags": []
   },
   "outputs": [
    {
     "data": {
      "text/html": [
       "<pre style=\"white-space:pre;overflow-x:auto;line-height:normal;font-family:Menlo,'DejaVu Sans Mono',consolas,'Courier New',monospace\"><span style=\"font-weight: bold\">Model: \"sequential\"</span>\n",
       "</pre>\n"
      ],
      "text/plain": [
       "\u001b[1mModel: \"sequential\"\u001b[0m\n"
      ]
     },
     "metadata": {},
     "output_type": "display_data"
    },
    {
     "data": {
      "text/html": [
       "<pre style=\"white-space:pre;overflow-x:auto;line-height:normal;font-family:Menlo,'DejaVu Sans Mono',consolas,'Courier New',monospace\">┏━━━━━━━━━━━━━━━━━━━━━━━━━━━━━━━━━┳━━━━━━━━━━━━━━━━━━━━━━━━┳━━━━━━━━━━━━━━━┓\n",
       "┃<span style=\"font-weight: bold\"> Layer (type)                    </span>┃<span style=\"font-weight: bold\"> Output Shape           </span>┃<span style=\"font-weight: bold\">       Param # </span>┃\n",
       "┡━━━━━━━━━━━━━━━━━━━━━━━━━━━━━━━━━╇━━━━━━━━━━━━━━━━━━━━━━━━╇━━━━━━━━━━━━━━━┩\n",
       "│ dense (<span style=\"color: #0087ff; text-decoration-color: #0087ff\">Dense</span>)                   │ (<span style=\"color: #00d7ff; text-decoration-color: #00d7ff\">None</span>, <span style=\"color: #00af00; text-decoration-color: #00af00\">16</span>)             │         <span style=\"color: #00af00; text-decoration-color: #00af00\">3,200</span> │\n",
       "├─────────────────────────────────┼────────────────────────┼───────────────┤\n",
       "│ dense_1 (<span style=\"color: #0087ff; text-decoration-color: #0087ff\">Dense</span>)                 │ (<span style=\"color: #00d7ff; text-decoration-color: #00d7ff\">None</span>, <span style=\"color: #00af00; text-decoration-color: #00af00\">64</span>)             │         <span style=\"color: #00af00; text-decoration-color: #00af00\">1,088</span> │\n",
       "├─────────────────────────────────┼────────────────────────┼───────────────┤\n",
       "│ dense_2 (<span style=\"color: #0087ff; text-decoration-color: #0087ff\">Dense</span>)                 │ (<span style=\"color: #00d7ff; text-decoration-color: #00d7ff\">None</span>, <span style=\"color: #00af00; text-decoration-color: #00af00\">64</span>)             │         <span style=\"color: #00af00; text-decoration-color: #00af00\">4,160</span> │\n",
       "├─────────────────────────────────┼────────────────────────┼───────────────┤\n",
       "│ dense_3 (<span style=\"color: #0087ff; text-decoration-color: #0087ff\">Dense</span>)                 │ (<span style=\"color: #00d7ff; text-decoration-color: #00d7ff\">None</span>, <span style=\"color: #00af00; text-decoration-color: #00af00\">16</span>)             │         <span style=\"color: #00af00; text-decoration-color: #00af00\">1,040</span> │\n",
       "├─────────────────────────────────┼────────────────────────┼───────────────┤\n",
       "│ dense_4 (<span style=\"color: #0087ff; text-decoration-color: #0087ff\">Dense</span>)                 │ (<span style=\"color: #00d7ff; text-decoration-color: #00d7ff\">None</span>, <span style=\"color: #00af00; text-decoration-color: #00af00\">3</span>)              │            <span style=\"color: #00af00; text-decoration-color: #00af00\">51</span> │\n",
       "└─────────────────────────────────┴────────────────────────┴───────────────┘\n",
       "</pre>\n"
      ],
      "text/plain": [
       "┏━━━━━━━━━━━━━━━━━━━━━━━━━━━━━━━━━┳━━━━━━━━━━━━━━━━━━━━━━━━┳━━━━━━━━━━━━━━━┓\n",
       "┃\u001b[1m \u001b[0m\u001b[1mLayer (type)                   \u001b[0m\u001b[1m \u001b[0m┃\u001b[1m \u001b[0m\u001b[1mOutput Shape          \u001b[0m\u001b[1m \u001b[0m┃\u001b[1m \u001b[0m\u001b[1m      Param #\u001b[0m\u001b[1m \u001b[0m┃\n",
       "┡━━━━━━━━━━━━━━━━━━━━━━━━━━━━━━━━━╇━━━━━━━━━━━━━━━━━━━━━━━━╇━━━━━━━━━━━━━━━┩\n",
       "│ dense (\u001b[38;5;33mDense\u001b[0m)                   │ (\u001b[38;5;45mNone\u001b[0m, \u001b[38;5;34m16\u001b[0m)             │         \u001b[38;5;34m3,200\u001b[0m │\n",
       "├─────────────────────────────────┼────────────────────────┼───────────────┤\n",
       "│ dense_1 (\u001b[38;5;33mDense\u001b[0m)                 │ (\u001b[38;5;45mNone\u001b[0m, \u001b[38;5;34m64\u001b[0m)             │         \u001b[38;5;34m1,088\u001b[0m │\n",
       "├─────────────────────────────────┼────────────────────────┼───────────────┤\n",
       "│ dense_2 (\u001b[38;5;33mDense\u001b[0m)                 │ (\u001b[38;5;45mNone\u001b[0m, \u001b[38;5;34m64\u001b[0m)             │         \u001b[38;5;34m4,160\u001b[0m │\n",
       "├─────────────────────────────────┼────────────────────────┼───────────────┤\n",
       "│ dense_3 (\u001b[38;5;33mDense\u001b[0m)                 │ (\u001b[38;5;45mNone\u001b[0m, \u001b[38;5;34m16\u001b[0m)             │         \u001b[38;5;34m1,040\u001b[0m │\n",
       "├─────────────────────────────────┼────────────────────────┼───────────────┤\n",
       "│ dense_4 (\u001b[38;5;33mDense\u001b[0m)                 │ (\u001b[38;5;45mNone\u001b[0m, \u001b[38;5;34m3\u001b[0m)              │            \u001b[38;5;34m51\u001b[0m │\n",
       "└─────────────────────────────────┴────────────────────────┴───────────────┘\n"
      ]
     },
     "metadata": {},
     "output_type": "display_data"
    },
    {
     "data": {
      "text/html": [
       "<pre style=\"white-space:pre;overflow-x:auto;line-height:normal;font-family:Menlo,'DejaVu Sans Mono',consolas,'Courier New',monospace\"><span style=\"font-weight: bold\"> Total params: </span><span style=\"color: #00af00; text-decoration-color: #00af00\">9,539</span> (37.26 KB)\n",
       "</pre>\n"
      ],
      "text/plain": [
       "\u001b[1m Total params: \u001b[0m\u001b[38;5;34m9,539\u001b[0m (37.26 KB)\n"
      ]
     },
     "metadata": {},
     "output_type": "display_data"
    },
    {
     "data": {
      "text/html": [
       "<pre style=\"white-space:pre;overflow-x:auto;line-height:normal;font-family:Menlo,'DejaVu Sans Mono',consolas,'Courier New',monospace\"><span style=\"font-weight: bold\"> Trainable params: </span><span style=\"color: #00af00; text-decoration-color: #00af00\">9,539</span> (37.26 KB)\n",
       "</pre>\n"
      ],
      "text/plain": [
       "\u001b[1m Trainable params: \u001b[0m\u001b[38;5;34m9,539\u001b[0m (37.26 KB)\n"
      ]
     },
     "metadata": {},
     "output_type": "display_data"
    },
    {
     "data": {
      "text/html": [
       "<pre style=\"white-space:pre;overflow-x:auto;line-height:normal;font-family:Menlo,'DejaVu Sans Mono',consolas,'Courier New',monospace\"><span style=\"font-weight: bold\"> Non-trainable params: </span><span style=\"color: #00af00; text-decoration-color: #00af00\">0</span> (0.00 B)\n",
       "</pre>\n"
      ],
      "text/plain": [
       "\u001b[1m Non-trainable params: \u001b[0m\u001b[38;5;34m0\u001b[0m (0.00 B)\n"
      ]
     },
     "metadata": {},
     "output_type": "display_data"
    },
    {
     "name": "stdout",
     "output_type": "stream",
     "text": [
      "None\n"
     ]
    }
   ],
   "source": [
    "model = models.Sequential([\n",
    "    layers.InputLayer(input_shape=(X_train.shape[1],)),\n",
    "    layers.Dense(16, activation='relu'),\n",
    "    layers.Dense(64, activation='relu'),\n",
    "    layers.Dense(64, activation='relu'),\n",
    "    layers.Dense(16, activation='relu'),\n",
    "    layers.Dense(3, activation='softmax')\n",
    "])\n",
    "\n",
    "model.compile(optimizer='adam',\n",
    "             loss='sparse_categorical_crossentropy',\n",
    "             metrics=['accuracy'])\n",
    "\n",
    "print(model.summary())"
   ]
  },
  {
   "cell_type": "code",
   "execution_count": 31,
   "id": "4fe6d157",
   "metadata": {
    "execution": {
     "iopub.execute_input": "2024-06-22T01:35:39.159518Z",
     "iopub.status.busy": "2024-06-22T01:35:39.159241Z",
     "iopub.status.idle": "2024-06-22T01:35:39.165390Z",
     "shell.execute_reply": "2024-06-22T01:35:39.164513Z"
    },
    "papermill": {
     "duration": 0.025496,
     "end_time": "2024-06-22T01:35:39.167593",
     "exception": false,
     "start_time": "2024-06-22T01:35:39.142097",
     "status": "completed"
    },
    "tags": []
   },
   "outputs": [
    {
     "name": "stdout",
     "output_type": "stream",
     "text": [
      "float64\n",
      "int64\n",
      "68226    1\n",
      "50201    2\n",
      "58616    0\n",
      "74760    1\n",
      "43056    2\n",
      "        ..\n",
      "59314    1\n",
      "33943    2\n",
      "35702    0\n",
      "6618     0\n",
      "29828    2\n",
      "Name: Target, Length: 65040, dtype: int64\n"
     ]
    }
   ],
   "source": [
    "print(X_train.dtype)\n",
    "print(y_train.dtype)\n",
    "print(y_train)"
   ]
  },
  {
   "cell_type": "code",
   "execution_count": 32,
   "id": "4c55fb82",
   "metadata": {
    "execution": {
     "iopub.execute_input": "2024-06-22T01:35:39.201375Z",
     "iopub.status.busy": "2024-06-22T01:35:39.201094Z",
     "iopub.status.idle": "2024-06-22T01:35:39.206045Z",
     "shell.execute_reply": "2024-06-22T01:35:39.205236Z"
    },
    "papermill": {
     "duration": 0.024318,
     "end_time": "2024-06-22T01:35:39.208270",
     "exception": false,
     "start_time": "2024-06-22T01:35:39.183952",
     "status": "completed"
    },
    "tags": []
   },
   "outputs": [
    {
     "name": "stdout",
     "output_type": "stream",
     "text": [
      "[0 1 2]\n",
      "{0: 1.0100633619083117, 1: 1.705072748721982, 2: 0.7025047794951557}\n"
     ]
    }
   ],
   "source": [
    "print(np.unique(y_train))\n",
    "print(class_weights)"
   ]
  },
  {
   "cell_type": "code",
   "execution_count": 33,
   "id": "e7bffb9f",
   "metadata": {
    "execution": {
     "iopub.execute_input": "2024-06-22T01:35:39.243483Z",
     "iopub.status.busy": "2024-06-22T01:35:39.243236Z",
     "iopub.status.idle": "2024-06-22T01:41:46.643289Z",
     "shell.execute_reply": "2024-06-22T01:41:46.642238Z"
    },
    "papermill": {
     "duration": 367.419282,
     "end_time": "2024-06-22T01:41:46.645367",
     "exception": false,
     "start_time": "2024-06-22T01:35:39.226085",
     "status": "completed"
    },
    "tags": []
   },
   "outputs": [
    {
     "name": "stderr",
     "output_type": "stream",
     "text": [
      "WARNING: All log messages before absl::InitializeLog() is called are written to STDERR\n",
      "I0000 00:00:1719020143.195099      98 device_compiler.h:186] Compiled cluster using XLA!  This line is logged at most once for the lifetime of the process.\n"
     ]
    },
    {
     "name": "stdout",
     "output_type": "stream",
     "text": [
      "\u001b[1m359/359\u001b[0m \u001b[32m━━━━━━━━━━━━━━━━━━━━\u001b[0m\u001b[37m\u001b[0m \u001b[1m1s\u001b[0m 2ms/step - accuracy: 0.8203 - loss: 0.5731\n",
      "Test accuracy: 0.8157344460487366\n"
     ]
    }
   ],
   "source": [
    "es = EarlyStopping(monitor='val_acc', mode='min', verbose=1, patience=15)\n",
    "\n",
    "history = model.fit(X_train, y_train, epochs=100, batch_size=25, validation_split=0.15, verbose=0, callbacks=[es])\n",
    "\n",
    "test_loss, test_acc = model.evaluate(X_test, y_test)\n",
    "\n",
    "print(f'Test accuracy: {test_acc}')"
   ]
  },
  {
   "cell_type": "code",
   "execution_count": 34,
   "id": "6704a14f",
   "metadata": {
    "execution": {
     "iopub.execute_input": "2024-06-22T01:41:46.682414Z",
     "iopub.status.busy": "2024-06-22T01:41:46.681760Z",
     "iopub.status.idle": "2024-06-22T01:41:46.866826Z",
     "shell.execute_reply": "2024-06-22T01:41:46.865962Z"
    },
    "papermill": {
     "duration": 0.205388,
     "end_time": "2024-06-22T01:41:46.868735",
     "exception": false,
     "start_time": "2024-06-22T01:41:46.663347",
     "status": "completed"
    },
    "tags": []
   },
   "outputs": [
    {
     "data": {
      "image/png": "[encoded data removed]",
      "text/plain": [
       "<Figure size 640x480 with 1 Axes>"
      ]
     },
     "metadata": {},
     "output_type": "display_data"
    }
   ],
   "source": [
    "plt.plot(history.history['accuracy'], label='accuracy')\n",
    "plt.plot(history.history['val_accuracy'], label = 'val_accuracy')\n",
    "plt.xlabel('Epoch')\n",
    "plt.ylabel('Accuracy')\n",
    "plt.ylim([0.5, 1])\n",
    "plt.legend(loc='lower right')\n",
    "plt.show()"
   ]
  },
  {
   "cell_type": "code",
   "execution_count": 35,
   "id": "2128ca32",
   "metadata": {
    "execution": {
     "iopub.execute_input": "2024-06-22T01:41:46.906051Z",
     "iopub.status.busy": "2024-06-22T01:41:46.905752Z",
     "iopub.status.idle": "2024-06-22T01:41:46.912579Z",
     "shell.execute_reply": "2024-06-22T01:41:46.911735Z"
    },
    "papermill": {
     "duration": 0.027578,
     "end_time": "2024-06-22T01:41:46.914405",
     "exception": false,
     "start_time": "2024-06-22T01:41:46.886827",
     "status": "completed"
    },
    "tags": []
   },
   "outputs": [],
   "source": [
    "reverse_label_mapping = {0: 'Dropout', 1: 'Enrolled', 2: 'Graduate'}\n",
    "\n",
    "decoded_test = [reverse_label_mapping[label] for label in y_test]"
   ]
  },
  {
   "cell_type": "code",
   "execution_count": 36,
   "id": "f16be8a9",
   "metadata": {
    "execution": {
     "iopub.execute_input": "2024-06-22T01:41:46.954305Z",
     "iopub.status.busy": "2024-06-22T01:41:46.953615Z",
     "iopub.status.idle": "2024-06-22T01:41:48.140630Z",
     "shell.execute_reply": "2024-06-22T01:41:48.139431Z"
    },
    "papermill": {
     "duration": 1.209354,
     "end_time": "2024-06-22T01:41:48.142611",
     "exception": false,
     "start_time": "2024-06-22T01:41:46.933257",
     "status": "completed"
    },
    "tags": []
   },
   "outputs": [
    {
     "name": "stdout",
     "output_type": "stream",
     "text": [
      "\u001b[1m359/359\u001b[0m \u001b[32m━━━━━━━━━━━━━━━━━━━━\u001b[0m\u001b[37m\u001b[0m \u001b[1m1s\u001b[0m 2ms/step\n",
      "[0 1 0 ... 2 0 2]\n",
      "Accuracy:  0.8157344485101934\n"
     ]
    }
   ],
   "source": [
    "dnn_pred = model.predict(X_test)\n",
    "\n",
    "dnn_pred = np.argmax(dnn_pred, axis=1)\n",
    "\n",
    "#flattened = []\n",
    "\n",
    "print(dnn_pred)\n",
    "\n",
    "#for arr in dnn_pred:\n",
    "    #flattened.extend(arr)\n",
    "\n",
    "decoded_pred_dnn = [reverse_label_mapping[label] for label in dnn_pred]\n",
    "\n",
    "accuracy_dnn = accuracy_score(decoded_test, decoded_pred_dnn)\n",
    "\n",
    "print(\"Accuracy: \", accuracy_dnn)"
   ]
  },
  {
   "cell_type": "code",
   "execution_count": 37,
   "id": "4236695f",
   "metadata": {
    "execution": {
     "iopub.execute_input": "2024-06-22T01:41:48.181876Z",
     "iopub.status.busy": "2024-06-22T01:41:48.181571Z",
     "iopub.status.idle": "2024-06-22T01:41:48.338522Z",
     "shell.execute_reply": "2024-06-22T01:41:48.337561Z"
    },
    "papermill": {
     "duration": 0.179088,
     "end_time": "2024-06-22T01:41:48.340928",
     "exception": false,
     "start_time": "2024-06-22T01:41:48.161840",
     "status": "completed"
    },
    "tags": []
   },
   "outputs": [
    {
     "name": "stdout",
     "output_type": "stream",
     "text": [
      "              precision    recall  f1-score   support\n",
      "\n",
      "     Dropout       0.88      0.83      0.85      3832\n",
      "    Enrolled       0.62      0.57      0.59      2225\n",
      "    Graduate       0.85      0.91      0.88      5421\n",
      "\n",
      "    accuracy                           0.82     11478\n",
      "   macro avg       0.78      0.77      0.77     11478\n",
      "weighted avg       0.81      0.82      0.81     11478\n",
      "\n"
     ]
    }
   ],
   "source": [
    "print(classification_report(decoded_test, decoded_pred_dnn))"
   ]
  },
  {
   "cell_type": "markdown",
   "id": "47afeaad",
   "metadata": {
    "papermill": {
     "duration": 0.019008,
     "end_time": "2024-06-22T01:41:48.380766",
     "exception": false,
     "start_time": "2024-06-22T01:41:48.361758",
     "status": "completed"
    },
    "tags": []
   },
   "source": [
    "**Without Resampling the dataset**"
   ]
  },
  {
   "cell_type": "markdown",
   "id": "a95bc739",
   "metadata": {
    "papermill": {
     "duration": 0.018482,
     "end_time": "2024-06-22T01:41:48.417969",
     "exception": false,
     "start_time": "2024-06-22T01:41:48.399487",
     "status": "completed"
    },
    "tags": []
   },
   "source": [
    "                   precision    recall  f1-score   support\n",
    "\n",
    "         Dropout       0.87      0.84      0.85      3832\n",
    "        Enrolled       0.62      0.58      0.60      2225\n",
    "        Graduate       0.85      0.91      0.88      5421\n",
    "\n",
    "        accuracy                           0.82     11478\n",
    "       macro avg       0.78      0.77      0.78     11478\n",
    "    weighted avg       0.82      0.82      0.82     11478"
   ]
  },
  {
   "cell_type": "markdown",
   "id": "47b2590c",
   "metadata": {
    "papermill": {
     "duration": 0.020159,
     "end_time": "2024-06-22T01:41:48.457115",
     "exception": false,
     "start_time": "2024-06-22T01:41:48.436956",
     "status": "completed"
    },
    "tags": []
   },
   "source": [
    "# Conclusion"
   ]
  },
  {
   "cell_type": "markdown",
   "id": "0600c220",
   "metadata": {
    "papermill": {
     "duration": 0.019439,
     "end_time": "2024-06-22T01:41:48.496730",
     "exception": false,
     "start_time": "2024-06-22T01:41:48.477291",
     "status": "completed"
    },
    "tags": []
   },
   "source": [
    "While Resampling had a positive effect on predicting our \"Enrolled\" target, the noise it gave our model reduced our total accuracy to the point that not resampling still had a better accuracy score. Our K-Nearest Neighbors had similar results to our resampling as well. \n",
    "\n",
    "\n",
    "Overall, our best resampling method was SMOTE and our best model is still our base DNN model with the preprocessed pipeline and encoded y variables. This model does not beat our accuracy score we received on our CatBoostClassifier, however it does provide worthwhile insight into how resampling methods may affect a DNN. \n",
    "\n",
    "In the future, I'd like to keep trying to get class_weight to work as I believe it will have productive results in tuning our model to predict \"Enrolled\" with a higher f1-score and keep our high metrics for \"Dropout\" and \"Graduate\" from our baseline DNN model. "
   ]
  },
  {
   "cell_type": "markdown",
   "id": "6ebf4750",
   "metadata": {
    "papermill": {
     "duration": 0.019649,
     "end_time": "2024-06-22T01:41:48.536042",
     "exception": false,
     "start_time": "2024-06-22T01:41:48.516393",
     "status": "completed"
    },
    "tags": []
   },
   "source": [
    "# Feedback"
   ]
  },
  {
   "cell_type": "markdown",
   "id": "46992854",
   "metadata": {
    "papermill": {
     "duration": 0.019737,
     "end_time": "2024-06-22T01:41:48.575622",
     "exception": false,
     "start_time": "2024-06-22T01:41:48.555885",
     "status": "completed"
    },
    "tags": []
   },
   "source": [
    "If anyone has suggestions on how to get class_weight to work properly please kindly send it my way as class_weight=class_weights when fitting has produced a KeyError: 1 everytime I have tried to call it. I believe this may be because we are working with a multi-class classification model however everything I've read online says that this should still work, and yet it won't. Thank you!!"
   ]
  }
 ],
 "metadata": {
  "kaggle": {
   "accelerator": "nvidiaTeslaT4",
   "dataSources": [
    {
     "databundleVersionId": 8710574,
     "sourceId": 73290,
     "sourceType": "competition"
    }
   ],
   "dockerImageVersionId": 30733,
   "isGpuEnabled": true,
   "isInternetEnabled": true,
   "language": "python",
   "sourceType": "notebook"
  },
  "kernelspec": {
   "display_name": "Python 3",
   "language": "python",
   "name": "python3"
  },
  "language_info": {
   "codemirror_mode": {
    "name": "ipython",
    "version": 3
   },
   "file_extension": ".py",
   "mimetype": "text/x-python",
   "name": "python",
   "nbconvert_exporter": "python",
   "pygments_lexer": "ipython3",
   "version": "3.10.13"
  },
  "papermill": {
   "default_parameters": {},
   "duration": 603.309772,
   "end_time": "2024-06-22T01:41:51.318081",
   "environment_variables": {},
   "exception": null,
   "input_path": "__notebook__.ipynb",
   "output_path": "__notebook__.ipynb",
   "parameters": {},
   "start_time": "2024-06-22T01:31:48.008309",
   "version": "2.5.0"
  }
 },
 "nbformat": 4,
 "nbformat_minor": 5
}
