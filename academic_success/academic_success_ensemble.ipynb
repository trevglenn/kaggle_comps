{
 "cells": [
  {
   "cell_type": "code",
   "execution_count": 1,
   "id": "ea1b53dd",
   "metadata": {
    "_cell_guid": "b1076dfc-b9ad-4769-8c92-a6c4dae69d19",
    "_uuid": "8f2839f25d086af736a60e9eeb907d3b93b6e0e5",
    "execution": {
     "iopub.execute_input": "2024-06-18T20:54:04.933745Z",
     "iopub.status.busy": "2024-06-18T20:54:04.933349Z",
     "iopub.status.idle": "2024-06-18T20:54:05.847789Z",
     "shell.execute_reply": "2024-06-18T20:54:05.846321Z"
    },
    "papermill": {
     "duration": 0.933762,
     "end_time": "2024-06-18T20:54:05.850684",
     "exception": false,
     "start_time": "2024-06-18T20:54:04.916922",
     "status": "completed"
    },
    "tags": []
   },
   "outputs": [
    {
     "name": "stdout",
     "output_type": "stream",
     "text": [
      "/kaggle/input/playground-series-s4e6/sample_submission.csv\n",
      "/kaggle/input/playground-series-s4e6/train.csv\n",
      "/kaggle/input/playground-series-s4e6/test.csv\n"
     ]
    }
   ],
   "source": [
    "# This Python 3 environment comes with many helpful analytics libraries installed\n",
    "# It is defined by the kaggle/python Docker image: https://github.com/kaggle/docker-python\n",
    "# For example, here's several helpful packages to load\n",
    "\n",
    "import numpy as np # linear algebra\n",
    "import pandas as pd # data processing, CSV file I/O (e.g. pd.read_csv)\n",
    "\n",
    "# Input data files are available in the read-only \"../input/\" directory\n",
    "# For example, running this (by clicking run or pressing Shift+Enter) will list all files under the input directory\n",
    "\n",
    "import os\n",
    "for dirname, _, filenames in os.walk('/kaggle/input'):\n",
    "    for filename in filenames:\n",
    "        print(os.path.join(dirname, filename))\n",
    "\n",
    "# You can write up to 20GB to the current directory (/kaggle/working/) that gets preserved as output when you create a version using \"Save & Run All\" \n",
    "# You can also write temporary files to /kaggle/temp/, but they won't be saved outside of the current session"
   ]
  },
  {
   "cell_type": "markdown",
   "id": "3e5cc618",
   "metadata": {
    "papermill": {
     "duration": 0.013156,
     "end_time": "2024-06-18T20:54:05.877390",
     "exception": false,
     "start_time": "2024-06-18T20:54:05.864234",
     "status": "completed"
    },
    "tags": []
   },
   "source": [
    "# Data"
   ]
  },
  {
   "cell_type": "code",
   "execution_count": 2,
   "id": "9e9c9c3e",
   "metadata": {
    "execution": {
     "iopub.execute_input": "2024-06-18T20:54:05.906239Z",
     "iopub.status.busy": "2024-06-18T20:54:05.905660Z",
     "iopub.status.idle": "2024-06-18T20:54:06.745701Z",
     "shell.execute_reply": "2024-06-18T20:54:06.744211Z"
    },
    "papermill": {
     "duration": 0.858099,
     "end_time": "2024-06-18T20:54:06.748803",
     "exception": false,
     "start_time": "2024-06-18T20:54:05.890704",
     "status": "completed"
    },
    "tags": []
   },
   "outputs": [],
   "source": [
    "train_df = pd.read_csv(\"/kaggle/input/playground-series-s4e6/train.csv\")\n",
    "test_df = pd.read_csv(\"/kaggle/input/playground-series-s4e6/test.csv\")\n",
    "\n",
    "sample = pd.read_csv(\"/kaggle/input/playground-series-s4e6/sample_submission.csv\")"
   ]
  },
  {
   "cell_type": "code",
   "execution_count": 3,
   "id": "98795ad0",
   "metadata": {
    "execution": {
     "iopub.execute_input": "2024-06-18T20:54:06.780750Z",
     "iopub.status.busy": "2024-06-18T20:54:06.780383Z",
     "iopub.status.idle": "2024-06-18T20:54:06.787905Z",
     "shell.execute_reply": "2024-06-18T20:54:06.786760Z"
    },
    "papermill": {
     "duration": 0.026761,
     "end_time": "2024-06-18T20:54:06.790443",
     "exception": false,
     "start_time": "2024-06-18T20:54:06.763682",
     "status": "completed"
    },
    "tags": []
   },
   "outputs": [],
   "source": [
    "ord_cols = [\"Application order\", \"Previous qualification\", \"Mother's qualification\", \"Father's qualification\"]\n",
    "\n",
    "cat_cols = [\"Marital status\", \"Application mode\", \"Nacionality\", \"Course\", \"Mother's occupation\", \"Father's occupation\", \n",
    "            \"Daytime/evening attendance\", \"Displaced\", \"Educational special needs\", \"Debtor\", \"Tuition fees up to date\", \n",
    "            \"Gender\", \"Scholarship holder\", \"International\"]\n",
    "\n",
    "num_cols = [\"Previous qualification (grade)\", \"Admission grade\", \"Age at enrollment\", \n",
    "            \"Curricular units 1st sem (credited)\", \"Curricular units 1st sem (enrolled)\", \"Curricular units 1st sem (evaluations)\", \n",
    "            \"Curricular units 1st sem (approved)\", \"Curricular units 1st sem (grade)\", \"Curricular units 1st sem (without evaluations)\", \n",
    "            \"Curricular units 2nd sem (credited)\", \"Curricular units 2nd sem (enrolled)\", \"Curricular units 2nd sem (evaluations)\", \n",
    "            \"Curricular units 2nd sem (approved)\", \"Curricular units 2nd sem (grade)\", \"Curricular units 2nd sem (without evaluations)\", \n",
    "            \"Unemployment rate\", \"Inflation rate\", \"GDP\"]\n",
    "\n",
    "target = [\"Target\"]"
   ]
  },
  {
   "cell_type": "markdown",
   "id": "28cd5224",
   "metadata": {
    "papermill": {
     "duration": 0.013526,
     "end_time": "2024-06-18T20:54:06.819003",
     "exception": false,
     "start_time": "2024-06-18T20:54:06.805477",
     "status": "completed"
    },
    "tags": []
   },
   "source": [
    "# Imports"
   ]
  },
  {
   "cell_type": "code",
   "execution_count": 4,
   "id": "b2a9e570",
   "metadata": {
    "execution": {
     "iopub.execute_input": "2024-06-18T20:54:06.848736Z",
     "iopub.status.busy": "2024-06-18T20:54:06.847839Z",
     "iopub.status.idle": "2024-06-18T20:54:10.655318Z",
     "shell.execute_reply": "2024-06-18T20:54:10.654370Z"
    },
    "papermill": {
     "duration": 3.825083,
     "end_time": "2024-06-18T20:54:10.657978",
     "exception": false,
     "start_time": "2024-06-18T20:54:06.832895",
     "status": "completed"
    },
    "tags": []
   },
   "outputs": [],
   "source": [
    "from scipy import stats\n",
    "from sklearn.metrics import accuracy_score, precision_score, recall_score, f1_score, roc_auc_score, confusion_matrix, classification_report\n",
    "\n",
    "import matplotlib.pyplot as plt\n",
    "import seaborn as sns\n",
    "\n",
    "from sklearn.model_selection import train_test_split, GridSearchCV, cross_val_score\n",
    "from sklearn.compose import make_column_transformer, ColumnTransformer\n",
    "from sklearn.pipeline import Pipeline, make_pipeline\n",
    "from sklearn.impute import SimpleImputer\n",
    "from sklearn.preprocessing import OrdinalEncoder, StandardScaler, OneHotEncoder\n",
    "\n",
    "from sklearn.linear_model import SGDClassifier\n",
    "from sklearn.ensemble import RandomForestClassifier, GradientBoostingClassifier, VotingClassifier, StackingClassifier\n",
    "from xgboost import XGBClassifier\n",
    "from catboost import CatBoostClassifier\n",
    "import lightgbm as lgb\n",
    "\n",
    "import warnings\n",
    "warnings.filterwarnings('ignore')"
   ]
  },
  {
   "cell_type": "markdown",
   "id": "04b98601",
   "metadata": {
    "papermill": {
     "duration": 0.017645,
     "end_time": "2024-06-18T20:54:10.695626",
     "exception": false,
     "start_time": "2024-06-18T20:54:10.677981",
     "status": "completed"
    },
    "tags": []
   },
   "source": [
    "# Pipeline"
   ]
  },
  {
   "cell_type": "code",
   "execution_count": 5,
   "id": "47614ad3",
   "metadata": {
    "execution": {
     "iopub.execute_input": "2024-06-18T20:54:10.725595Z",
     "iopub.status.busy": "2024-06-18T20:54:10.724814Z",
     "iopub.status.idle": "2024-06-18T20:54:10.735970Z",
     "shell.execute_reply": "2024-06-18T20:54:10.734302Z"
    },
    "papermill": {
     "duration": 0.029201,
     "end_time": "2024-06-18T20:54:10.738759",
     "exception": false,
     "start_time": "2024-06-18T20:54:10.709558",
     "status": "completed"
    },
    "tags": []
   },
   "outputs": [],
   "source": [
    "num_pipeline = Pipeline(steps=[\n",
    "    ('impute', SimpleImputer(strategy='mean')),\n",
    "    ('scaler', StandardScaler())\n",
    "])\n",
    "\n",
    "\n",
    "ode_pipeline = Pipeline(steps=[\n",
    "    ('impute', SimpleImputer(strategy='most_frequent')),\n",
    "    ('ode', OrdinalEncoder(handle_unknown='use_encoded_value', unknown_value=-1))\n",
    "])\n",
    "\n",
    "\n",
    "ohe_pipeline = Pipeline(steps=[\n",
    "    ('impute', SimpleImputer(strategy='most_frequent')),\n",
    "    ('ohe', OneHotEncoder(handle_unknown='ignore', sparse_output=False))\n",
    "])"
   ]
  },
  {
   "cell_type": "code",
   "execution_count": 6,
   "id": "d87111c7",
   "metadata": {
    "execution": {
     "iopub.execute_input": "2024-06-18T20:54:10.767383Z",
     "iopub.status.busy": "2024-06-18T20:54:10.766979Z",
     "iopub.status.idle": "2024-06-18T20:54:10.773015Z",
     "shell.execute_reply": "2024-06-18T20:54:10.771888Z"
    },
    "papermill": {
     "duration": 0.022966,
     "end_time": "2024-06-18T20:54:10.775421",
     "exception": false,
     "start_time": "2024-06-18T20:54:10.752455",
     "status": "completed"
    },
    "tags": []
   },
   "outputs": [],
   "source": [
    "col_trans = ColumnTransformer(transformers=[\n",
    "    ('num_p', num_pipeline, num_cols),\n",
    "    ('ode_p', ode_pipeline, ord_cols),\n",
    "    ('ohe_p', ohe_pipeline, cat_cols),\n",
    "    ],\n",
    "    remainder='passthrough', \n",
    "    n_jobs=-1)"
   ]
  },
  {
   "cell_type": "code",
   "execution_count": 7,
   "id": "ed7b3f3f",
   "metadata": {
    "execution": {
     "iopub.execute_input": "2024-06-18T20:54:10.804247Z",
     "iopub.status.busy": "2024-06-18T20:54:10.803863Z",
     "iopub.status.idle": "2024-06-18T20:54:10.809587Z",
     "shell.execute_reply": "2024-06-18T20:54:10.808528Z"
    },
    "papermill": {
     "duration": 0.022903,
     "end_time": "2024-06-18T20:54:10.811889",
     "exception": false,
     "start_time": "2024-06-18T20:54:10.788986",
     "status": "completed"
    },
    "tags": []
   },
   "outputs": [],
   "source": [
    "pipeline = Pipeline(steps=[\n",
    "    ('preprocessing', col_trans)\n",
    "])"
   ]
  },
  {
   "cell_type": "code",
   "execution_count": 8,
   "id": "b9be9371",
   "metadata": {
    "execution": {
     "iopub.execute_input": "2024-06-18T20:54:10.840335Z",
     "iopub.status.busy": "2024-06-18T20:54:10.839945Z",
     "iopub.status.idle": "2024-06-18T20:54:10.866613Z",
     "shell.execute_reply": "2024-06-18T20:54:10.865335Z"
    },
    "papermill": {
     "duration": 0.044147,
     "end_time": "2024-06-18T20:54:10.869482",
     "exception": false,
     "start_time": "2024-06-18T20:54:10.825335",
     "status": "completed"
    },
    "tags": []
   },
   "outputs": [],
   "source": [
    "X = train_df.drop(columns=['id', 'Target'], axis=1)\n",
    "y = train_df['Target']"
   ]
  },
  {
   "cell_type": "code",
   "execution_count": 9,
   "id": "a8653c46",
   "metadata": {
    "execution": {
     "iopub.execute_input": "2024-06-18T20:54:10.899882Z",
     "iopub.status.busy": "2024-06-18T20:54:10.899475Z",
     "iopub.status.idle": "2024-06-18T20:54:14.039934Z",
     "shell.execute_reply": "2024-06-18T20:54:14.038127Z"
    },
    "papermill": {
     "duration": 3.158846,
     "end_time": "2024-06-18T20:54:14.042993",
     "exception": false,
     "start_time": "2024-06-18T20:54:10.884147",
     "status": "completed"
    },
    "tags": []
   },
   "outputs": [],
   "source": [
    "X_preprocessed = pipeline.fit_transform(X)"
   ]
  },
  {
   "cell_type": "markdown",
   "id": "383e96ea",
   "metadata": {
    "papermill": {
     "duration": 0.015963,
     "end_time": "2024-06-18T20:54:14.073302",
     "exception": false,
     "start_time": "2024-06-18T20:54:14.057339",
     "status": "completed"
    },
    "tags": []
   },
   "source": [
    "# Kmeans"
   ]
  },
  {
   "cell_type": "code",
   "execution_count": 10,
   "id": "ae76a0c5",
   "metadata": {
    "execution": {
     "iopub.execute_input": "2024-06-18T20:54:14.111744Z",
     "iopub.status.busy": "2024-06-18T20:54:14.110540Z",
     "iopub.status.idle": "2024-06-18T20:54:20.699052Z",
     "shell.execute_reply": "2024-06-18T20:54:20.697916Z"
    },
    "papermill": {
     "duration": 6.612347,
     "end_time": "2024-06-18T20:54:20.701568",
     "exception": false,
     "start_time": "2024-06-18T20:54:14.089221",
     "status": "completed"
    },
    "tags": []
   },
   "outputs": [
    {
     "data": {
      "image/png": "[encoded data removed]",
      "text/plain": [
       "<Figure size 640x480 with 1 Axes>"
      ]
     },
     "metadata": {},
     "output_type": "display_data"
    }
   ],
   "source": [
    "from sklearn.cluster import KMeans\n",
    "\n",
    "distortions = []\n",
    "K_range = range(1, 10)\n",
    "for k in K_range:\n",
    "    kmeans = KMeans(n_clusters=k, random_state=0, n_init=\"auto\")\n",
    "    kmeans.fit(X_preprocessed)\n",
    "    distortions.append(kmeans.inertia_) \n",
    "    \n",
    "plt.plot(K_range, distortions, marker='o')\n",
    "plt.xlabel('Number of clusters (K)')\n",
    "plt.ylabel('Distortion')\n",
    "plt.title('Elbow Method for Optimal K')\n",
    "plt.show()"
   ]
  },
  {
   "cell_type": "code",
   "execution_count": 11,
   "id": "20e81595",
   "metadata": {
    "execution": {
     "iopub.execute_input": "2024-06-18T20:54:20.741511Z",
     "iopub.status.busy": "2024-06-18T20:54:20.740203Z",
     "iopub.status.idle": "2024-06-18T20:54:21.697532Z",
     "shell.execute_reply": "2024-06-18T20:54:21.696412Z"
    },
    "papermill": {
     "duration": 0.981294,
     "end_time": "2024-06-18T20:54:21.700103",
     "exception": false,
     "start_time": "2024-06-18T20:54:20.718809",
     "status": "completed"
    },
    "tags": []
   },
   "outputs": [
    {
     "name": "stdout",
     "output_type": "stream",
     "text": [
      "[0 7 0 ... 8 8 7]\n"
     ]
    }
   ],
   "source": [
    "kmeans = KMeans(n_clusters=9, random_state=0, n_init=\"auto\")\n",
    "kmeans.fit(X_preprocessed)\n",
    "x_cluster_labels = kmeans.labels_\n",
    "print(x_cluster_labels)"
   ]
  },
  {
   "cell_type": "code",
   "execution_count": 12,
   "id": "eab814d4",
   "metadata": {
    "execution": {
     "iopub.execute_input": "2024-06-18T20:54:21.730484Z",
     "iopub.status.busy": "2024-06-18T20:54:21.730059Z",
     "iopub.status.idle": "2024-06-18T20:54:21.772311Z",
     "shell.execute_reply": "2024-06-18T20:54:21.771234Z"
    },
    "papermill": {
     "duration": 0.060721,
     "end_time": "2024-06-18T20:54:21.775172",
     "exception": false,
     "start_time": "2024-06-18T20:54:21.714451",
     "status": "completed"
    },
    "tags": []
   },
   "outputs": [],
   "source": [
    "X_with_clusters = np.c_[X, x_cluster_labels]\n",
    "\n",
    "label_mapping = {'Dropout': 0, 'Enrolled': 1, 'Graduate': 2}\n",
    "encoded_y = y.map(label_mapping)"
   ]
  },
  {
   "cell_type": "markdown",
   "id": "48a92ab1",
   "metadata": {
    "papermill": {
     "duration": 0.014836,
     "end_time": "2024-06-18T20:54:21.805655",
     "exception": false,
     "start_time": "2024-06-18T20:54:21.790819",
     "status": "completed"
    },
    "tags": []
   },
   "source": [
    "# Model Building"
   ]
  },
  {
   "cell_type": "markdown",
   "id": "bef0209a",
   "metadata": {
    "papermill": {
     "duration": 0.013934,
     "end_time": "2024-06-18T20:54:21.834670",
     "exception": false,
     "start_time": "2024-06-18T20:54:21.820736",
     "status": "completed"
    },
    "tags": []
   },
   "source": [
    "**SGD Classifier**"
   ]
  },
  {
   "cell_type": "code",
   "execution_count": 13,
   "id": "0e82e026",
   "metadata": {
    "execution": {
     "iopub.execute_input": "2024-06-18T20:54:21.864913Z",
     "iopub.status.busy": "2024-06-18T20:54:21.864485Z",
     "iopub.status.idle": "2024-06-18T20:54:21.922805Z",
     "shell.execute_reply": "2024-06-18T20:54:21.921362Z"
    },
    "papermill": {
     "duration": 0.077185,
     "end_time": "2024-06-18T20:54:21.926025",
     "exception": false,
     "start_time": "2024-06-18T20:54:21.848840",
     "status": "completed"
    },
    "tags": []
   },
   "outputs": [],
   "source": [
    "X_train, X_test, y_train, y_test = train_test_split(X_preprocessed, encoded_y, test_size=0.15, random_state=25)"
   ]
  },
  {
   "cell_type": "code",
   "execution_count": 14,
   "id": "1fecb688",
   "metadata": {
    "execution": {
     "iopub.execute_input": "2024-06-18T20:54:21.957048Z",
     "iopub.status.busy": "2024-06-18T20:54:21.956621Z",
     "iopub.status.idle": "2024-06-18T20:54:44.070332Z",
     "shell.execute_reply": "2024-06-18T20:54:44.065341Z"
    },
    "papermill": {
     "duration": 22.134169,
     "end_time": "2024-06-18T20:54:44.074940",
     "exception": false,
     "start_time": "2024-06-18T20:54:21.940771",
     "status": "completed"
    },
    "tags": []
   },
   "outputs": [
    {
     "name": "stdout",
     "output_type": "stream",
     "text": [
      "Accuracy: 0.794302143230528\n"
     ]
    }
   ],
   "source": [
    "from sklearn.linear_model import SGDClassifier\n",
    "from sklearn.metrics import accuracy_score\n",
    "\n",
    "clf = SGDClassifier(loss=\"hinge\", penalty=\"l2\", max_iter=1000)\n",
    "clf.fit(X_train, y_train)\n",
    "\n",
    "sgd_pred = clf.predict(X_test)\n",
    "\n",
    "reverse_label_mapping = {0: 'Dropout', 1: 'Enrolled', 2: 'Graduate'}\n",
    "\n",
    "decoded_pred_sgd = [reverse_label_mapping[label] for label in sgd_pred]\n",
    "\n",
    "decoded_test = [reverse_label_mapping[label] for label in y_test]\n",
    "\n",
    "accuracy_sgd = accuracy_score(decoded_test, decoded_pred_sgd)\n",
    "\n",
    "print(\"Accuracy:\", accuracy_sgd)"
   ]
  },
  {
   "cell_type": "markdown",
   "id": "3c5335b1",
   "metadata": {
    "papermill": {
     "duration": 0.014635,
     "end_time": "2024-06-18T20:54:44.118536",
     "exception": false,
     "start_time": "2024-06-18T20:54:44.103901",
     "status": "completed"
    },
    "tags": []
   },
   "source": [
    "Kmeans acc is 0.72417"
   ]
  },
  {
   "cell_type": "markdown",
   "id": "adda5f52",
   "metadata": {
    "papermill": {
     "duration": 0.01492,
     "end_time": "2024-06-18T20:54:44.148359",
     "exception": false,
     "start_time": "2024-06-18T20:54:44.133439",
     "status": "completed"
    },
    "tags": []
   },
   "source": [
    "Normal Pipeline acc is 0.78010"
   ]
  },
  {
   "cell_type": "markdown",
   "id": "9a7511d0",
   "metadata": {
    "papermill": {
     "duration": 0.014387,
     "end_time": "2024-06-18T20:54:44.177708",
     "exception": false,
     "start_time": "2024-06-18T20:54:44.163321",
     "status": "completed"
    },
    "tags": []
   },
   "source": [
    "**Keeping normal pipeline and not doing kmeans** due to lower accuracy with Kmeans"
   ]
  },
  {
   "cell_type": "markdown",
   "id": "5fa1f6cc",
   "metadata": {
    "papermill": {
     "duration": 0.01391,
     "end_time": "2024-06-18T20:54:44.206804",
     "exception": false,
     "start_time": "2024-06-18T20:54:44.192894",
     "status": "completed"
    },
    "tags": []
   },
   "source": [
    "**Random Forest Classifier**"
   ]
  },
  {
   "cell_type": "code",
   "execution_count": 15,
   "id": "02369951",
   "metadata": {
    "execution": {
     "iopub.execute_input": "2024-06-18T20:54:44.240879Z",
     "iopub.status.busy": "2024-06-18T20:54:44.240438Z",
     "iopub.status.idle": "2024-06-18T20:55:01.680622Z",
     "shell.execute_reply": "2024-06-18T20:55:01.679622Z"
    },
    "papermill": {
     "duration": 17.46061,
     "end_time": "2024-06-18T20:55:01.683170",
     "exception": false,
     "start_time": "2024-06-18T20:54:44.222560",
     "status": "completed"
    },
    "tags": []
   },
   "outputs": [
    {
     "name": "stdout",
     "output_type": "stream",
     "text": [
      "[0 1 0 ... 2 0 2]\n",
      "Accuracy: 0.8308067607597143\n"
     ]
    }
   ],
   "source": [
    "rfc = RandomForestClassifier()\n",
    "\n",
    "rfc.fit(X_train, y_train)\n",
    "\n",
    "rfc_pred = rfc.predict(X_test)\n",
    "\n",
    "print(rfc_pred)\n",
    "\n",
    "decoded_pred_rfc = [reverse_label_mapping[label] for label in rfc_pred]\n",
    "\n",
    "accuracy_rfc = accuracy_score(decoded_test, decoded_pred_rfc)\n",
    "\n",
    "print(\"Accuracy:\", accuracy_rfc)"
   ]
  },
  {
   "cell_type": "markdown",
   "id": "23416e82",
   "metadata": {
    "papermill": {
     "duration": 0.013818,
     "end_time": "2024-06-18T20:55:01.711515",
     "exception": false,
     "start_time": "2024-06-18T20:55:01.697697",
     "status": "completed"
    },
    "tags": []
   },
   "source": [
    "Random Forest Acc is about 0.8288"
   ]
  },
  {
   "cell_type": "markdown",
   "id": "d6e222d5",
   "metadata": {
    "papermill": {
     "duration": 0.013796,
     "end_time": "2024-06-18T20:55:01.739602",
     "exception": false,
     "start_time": "2024-06-18T20:55:01.725806",
     "status": "completed"
    },
    "tags": []
   },
   "source": [
    "**Cat Boost Classifier**"
   ]
  },
  {
   "cell_type": "code",
   "execution_count": 16,
   "id": "0413007d",
   "metadata": {
    "execution": {
     "iopub.execute_input": "2024-06-18T20:55:01.772100Z",
     "iopub.status.busy": "2024-06-18T20:55:01.771358Z",
     "iopub.status.idle": "2024-06-18T20:55:41.229783Z",
     "shell.execute_reply": "2024-06-18T20:55:41.228555Z"
    },
    "papermill": {
     "duration": 39.483523,
     "end_time": "2024-06-18T20:55:41.238291",
     "exception": false,
     "start_time": "2024-06-18T20:55:01.754768",
     "status": "completed"
    },
    "tags": []
   },
   "outputs": [
    {
     "name": "stdout",
     "output_type": "stream",
     "text": [
      "Accuracy: 0.835250043561596\n"
     ]
    }
   ],
   "source": [
    "cbc = CatBoostClassifier(verbose=0)\n",
    "\n",
    "cbc.fit(X_train, y_train)\n",
    "\n",
    "cbc_pred = cbc.predict(X_test)\n",
    "\n",
    "flattened = []\n",
    "\n",
    "for arr in cbc_pred:\n",
    "    flattened.extend(arr)\n",
    "\n",
    "#print(flattened)\n",
    "\n",
    "decoded_pred_cbc = [reverse_label_mapping[label] for label in flattened]\n",
    "\n",
    "accuracy_cbc = accuracy_score(decoded_test, decoded_pred_cbc)\n",
    "\n",
    "print(\"Accuracy:\", accuracy_cbc)"
   ]
  },
  {
   "cell_type": "markdown",
   "id": "e7fdb192",
   "metadata": {
    "papermill": {
     "duration": 0.013928,
     "end_time": "2024-06-18T20:55:41.266571",
     "exception": false,
     "start_time": "2024-06-18T20:55:41.252643",
     "status": "completed"
    },
    "tags": []
   },
   "source": [
    "Cat Boost Classifier acc is about 0.8352"
   ]
  },
  {
   "cell_type": "markdown",
   "id": "17fbc62c",
   "metadata": {
    "papermill": {
     "duration": 0.013937,
     "end_time": "2024-06-18T20:55:41.294953",
     "exception": false,
     "start_time": "2024-06-18T20:55:41.281016",
     "status": "completed"
    },
    "tags": []
   },
   "source": [
    "**XGB Classifier**"
   ]
  },
  {
   "cell_type": "code",
   "execution_count": 17,
   "id": "7343979a",
   "metadata": {
    "execution": {
     "iopub.execute_input": "2024-06-18T20:55:41.325519Z",
     "iopub.status.busy": "2024-06-18T20:55:41.325107Z",
     "iopub.status.idle": "2024-06-18T20:56:10.937832Z",
     "shell.execute_reply": "2024-06-18T20:56:10.936717Z"
    },
    "papermill": {
     "duration": 29.631002,
     "end_time": "2024-06-18T20:56:10.940493",
     "exception": false,
     "start_time": "2024-06-18T20:55:41.309491",
     "status": "completed"
    },
    "tags": []
   },
   "outputs": [
    {
     "name": "stdout",
     "output_type": "stream",
     "text": [
      "[0 1 0 ... 2 0 2]\n",
      "Accuracy: 0.8339431956786897\n"
     ]
    }
   ],
   "source": [
    "xgb = XGBClassifier()\n",
    "\n",
    "xgb.fit(X_train, y_train)\n",
    "\n",
    "xgb_pred = xgb.predict(X_test)\n",
    "\n",
    "print(xgb_pred)\n",
    "\n",
    "decoded_pred_xgb = [reverse_label_mapping[label] for label in xgb_pred]\n",
    "\n",
    "accuracy_xgb = accuracy_score(decoded_test, decoded_pred_xgb)\n",
    "\n",
    "print(\"Accuracy:\", accuracy_xgb)"
   ]
  },
  {
   "cell_type": "markdown",
   "id": "3a5d779d",
   "metadata": {
    "papermill": {
     "duration": 0.014391,
     "end_time": "2024-06-18T20:56:10.969608",
     "exception": false,
     "start_time": "2024-06-18T20:56:10.955217",
     "status": "completed"
    },
    "tags": []
   },
   "source": [
    "XGB acc is about 0.8339"
   ]
  },
  {
   "cell_type": "markdown",
   "id": "031e5698",
   "metadata": {
    "papermill": {
     "duration": 0.015664,
     "end_time": "2024-06-18T20:56:10.999978",
     "exception": false,
     "start_time": "2024-06-18T20:56:10.984314",
     "status": "completed"
    },
    "tags": []
   },
   "source": [
    "**Deep Learning**"
   ]
  },
  {
   "cell_type": "code",
   "execution_count": 18,
   "id": "163df117",
   "metadata": {
    "execution": {
     "iopub.execute_input": "2024-06-18T20:56:11.034218Z",
     "iopub.status.busy": "2024-06-18T20:56:11.033810Z",
     "iopub.status.idle": "2024-06-18T20:56:25.226161Z",
     "shell.execute_reply": "2024-06-18T20:56:25.224938Z"
    },
    "papermill": {
     "duration": 14.213207,
     "end_time": "2024-06-18T20:56:25.229259",
     "exception": false,
     "start_time": "2024-06-18T20:56:11.016052",
     "status": "completed"
    },
    "tags": []
   },
   "outputs": [
    {
     "name": "stderr",
     "output_type": "stream",
     "text": [
      "2024-06-18 20:56:13.342149: E external/local_xla/xla/stream_executor/cuda/cuda_dnn.cc:9261] Unable to register cuDNN factory: Attempting to register factory for plugin cuDNN when one has already been registered\n",
      "2024-06-18 20:56:13.342309: E external/local_xla/xla/stream_executor/cuda/cuda_fft.cc:607] Unable to register cuFFT factory: Attempting to register factory for plugin cuFFT when one has already been registered\n",
      "2024-06-18 20:56:13.517409: E external/local_xla/xla/stream_executor/cuda/cuda_blas.cc:1515] Unable to register cuBLAS factory: Attempting to register factory for plugin cuBLAS when one has already been registered\n"
     ]
    }
   ],
   "source": [
    "import tensorflow as tf\n",
    "import keras\n",
    "from keras.models import Sequential\n",
    "from keras.callbacks import EarlyStopping\n",
    "from keras import layers\n"
   ]
  },
  {
   "cell_type": "code",
   "execution_count": null,
   "id": "2c68d4f0",
   "metadata": {
    "papermill": {
     "duration": 0.014832,
     "end_time": "2024-06-18T20:56:25.259167",
     "exception": false,
     "start_time": "2024-06-18T20:56:25.244335",
     "status": "completed"
    },
    "tags": []
   },
   "outputs": [],
   "source": []
  },
  {
   "cell_type": "markdown",
   "id": "36c09e68",
   "metadata": {
    "papermill": {
     "duration": 0.01476,
     "end_time": "2024-06-18T20:56:25.288827",
     "exception": false,
     "start_time": "2024-06-18T20:56:25.274067",
     "status": "completed"
    },
    "tags": []
   },
   "source": [
    "**HistGradientBoosting Classifier**"
   ]
  },
  {
   "cell_type": "code",
   "execution_count": 19,
   "id": "a194c3a5",
   "metadata": {
    "execution": {
     "iopub.execute_input": "2024-06-18T20:56:25.387738Z",
     "iopub.status.busy": "2024-06-18T20:56:25.386937Z",
     "iopub.status.idle": "2024-06-18T20:56:54.803875Z",
     "shell.execute_reply": "2024-06-18T20:56:54.802675Z"
    },
    "papermill": {
     "duration": 29.436324,
     "end_time": "2024-06-18T20:56:54.806468",
     "exception": false,
     "start_time": "2024-06-18T20:56:25.370144",
     "status": "completed"
    },
    "tags": []
   },
   "outputs": [
    {
     "name": "stdout",
     "output_type": "stream",
     "text": [
      "[0 1 0 ... 2 0 2]\n",
      "Accuracy: 0.8332462101411395\n"
     ]
    }
   ],
   "source": [
    "from sklearn.ensemble import HistGradientBoostingClassifier\n",
    "\n",
    "hgb = HistGradientBoostingClassifier()\n",
    "\n",
    "hgb.fit(X_train, y_train)\n",
    "\n",
    "hgb_pred = hgb.predict(X_test)\n",
    "\n",
    "print(hgb_pred)\n",
    "\n",
    "decoded_pred_hgb = [reverse_label_mapping[label] for label in hgb_pred]\n",
    "\n",
    "accuracy_hgb = accuracy_score(decoded_test, decoded_pred_hgb)\n",
    "\n",
    "print(\"Accuracy:\", accuracy_hgb)"
   ]
  },
  {
   "cell_type": "markdown",
   "id": "32737c94",
   "metadata": {
    "papermill": {
     "duration": 0.014429,
     "end_time": "2024-06-18T20:56:54.835815",
     "exception": false,
     "start_time": "2024-06-18T20:56:54.821386",
     "status": "completed"
    },
    "tags": []
   },
   "source": [
    "hgb acc is about 0.83307"
   ]
  },
  {
   "cell_type": "markdown",
   "id": "6fa861cd",
   "metadata": {
    "papermill": {
     "duration": 0.014472,
     "end_time": "2024-06-18T20:56:54.864927",
     "exception": false,
     "start_time": "2024-06-18T20:56:54.850455",
     "status": "completed"
    },
    "tags": []
   },
   "source": [
    "**ADA Boost**"
   ]
  },
  {
   "cell_type": "code",
   "execution_count": 20,
   "id": "2d430435",
   "metadata": {
    "execution": {
     "iopub.execute_input": "2024-06-18T20:56:54.896320Z",
     "iopub.status.busy": "2024-06-18T20:56:54.895932Z",
     "iopub.status.idle": "2024-06-18T20:57:10.727402Z",
     "shell.execute_reply": "2024-06-18T20:57:10.725914Z"
    },
    "papermill": {
     "duration": 15.850161,
     "end_time": "2024-06-18T20:57:10.729930",
     "exception": false,
     "start_time": "2024-06-18T20:56:54.879769",
     "status": "completed"
    },
    "tags": []
   },
   "outputs": [
    {
     "name": "stdout",
     "output_type": "stream",
     "text": [
      "[0 1 0 ... 2 0 2]\n",
      "Accuracy: 0.8246210141139572\n"
     ]
    }
   ],
   "source": [
    "from sklearn.ensemble import AdaBoostClassifier\n",
    "\n",
    "ada = AdaBoostClassifier()\n",
    "\n",
    "ada.fit(X_train, y_train)\n",
    "ada_pred = ada.predict(X_test)\n",
    "\n",
    "print(ada_pred)\n",
    "\n",
    "decoded_pred_ada = [reverse_label_mapping[label] for label in ada_pred]\n",
    "\n",
    "accuracy_ada = accuracy_score(decoded_test, decoded_pred_ada)\n",
    "\n",
    "print(\"Accuracy:\", accuracy_ada)"
   ]
  },
  {
   "cell_type": "markdown",
   "id": "afbb06d1",
   "metadata": {
    "papermill": {
     "duration": 0.014783,
     "end_time": "2024-06-18T20:57:10.760765",
     "exception": false,
     "start_time": "2024-06-18T20:57:10.745982",
     "status": "completed"
    },
    "tags": []
   },
   "source": [
    "ada acc is 0.8246"
   ]
  },
  {
   "cell_type": "markdown",
   "id": "fd91c0d5",
   "metadata": {
    "papermill": {
     "duration": 0.015178,
     "end_time": "2024-06-18T20:57:10.791388",
     "exception": false,
     "start_time": "2024-06-18T20:57:10.776210",
     "status": "completed"
    },
    "tags": []
   },
   "source": [
    "**Voting Classifier**"
   ]
  },
  {
   "cell_type": "code",
   "execution_count": 21,
   "id": "f1805831",
   "metadata": {
    "execution": {
     "iopub.execute_input": "2024-06-18T20:57:10.826591Z",
     "iopub.status.busy": "2024-06-18T20:57:10.826176Z",
     "iopub.status.idle": "2024-06-18T20:58:40.680070Z",
     "shell.execute_reply": "2024-06-18T20:58:40.679028Z"
    },
    "papermill": {
     "duration": 89.889239,
     "end_time": "2024-06-18T20:58:40.697625",
     "exception": false,
     "start_time": "2024-06-18T20:57:10.808386",
     "status": "completed"
    },
    "tags": []
   },
   "outputs": [
    {
     "name": "stdout",
     "output_type": "stream",
     "text": [
      "[0 1 0 ... 2 0 2]\n",
      "Accuracy: 0.8337689492943021\n"
     ]
    }
   ],
   "source": [
    "vc = VotingClassifier([('rfc', rfc),\n",
    "                      ('xgb', xgb),\n",
    "                       ('ada', ada),\n",
    "                      ('hgb', hgb)], \n",
    "                      weights=[2, 3, 1, 4])\n",
    "\n",
    "vc.fit(X_train, y_train)\n",
    "vc_pred = vc.predict(X_test)\n",
    "\n",
    "print(vc_pred)\n",
    "\n",
    "decoded_pred_vc = [reverse_label_mapping[label] for label in vc_pred]\n",
    "\n",
    "accuracy_vc = accuracy_score(decoded_test, decoded_pred_vc)\n",
    "\n",
    "print(\"Accuracy:\", accuracy_vc)"
   ]
  },
  {
   "cell_type": "markdown",
   "id": "dd0de543",
   "metadata": {
    "papermill": {
     "duration": 0.014614,
     "end_time": "2024-06-18T20:58:40.727066",
     "exception": false,
     "start_time": "2024-06-18T20:58:40.712452",
     "status": "completed"
    },
    "tags": []
   },
   "source": [
    "**Stacking**"
   ]
  },
  {
   "cell_type": "code",
   "execution_count": 22,
   "id": "1a143eb7",
   "metadata": {
    "execution": {
     "iopub.execute_input": "2024-06-18T20:58:40.758512Z",
     "iopub.status.busy": "2024-06-18T20:58:40.758130Z",
     "iopub.status.idle": "2024-06-18T20:58:40.763277Z",
     "shell.execute_reply": "2024-06-18T20:58:40.762145Z"
    },
    "papermill": {
     "duration": 0.023636,
     "end_time": "2024-06-18T20:58:40.765512",
     "exception": false,
     "start_time": "2024-06-18T20:58:40.741876",
     "status": "completed"
    },
    "tags": []
   },
   "outputs": [],
   "source": [
    "estimators = [\n",
    "    ('cbc', cbc),\n",
    "    ('xgb', xgb),\n",
    "    ('hgb', hgb),\n",
    "    ('rfc', rfc)\n",
    "]"
   ]
  },
  {
   "cell_type": "code",
   "execution_count": 23,
   "id": "6a8100fc",
   "metadata": {
    "execution": {
     "iopub.execute_input": "2024-06-18T20:58:40.797853Z",
     "iopub.status.busy": "2024-06-18T20:58:40.797458Z",
     "iopub.status.idle": "2024-06-18T21:08:47.940326Z",
     "shell.execute_reply": "2024-06-18T21:08:47.939150Z"
    },
    "papermill": {
     "duration": 607.176547,
     "end_time": "2024-06-18T21:08:47.957333",
     "exception": false,
     "start_time": "2024-06-18T20:58:40.780786",
     "status": "completed"
    },
    "tags": []
   },
   "outputs": [
    {
     "name": "stdout",
     "output_type": "stream",
     "text": [
      "[0 1 0 ... 2 0 2]\n"
     ]
    }
   ],
   "source": [
    "stack = StackingClassifier(estimators=estimators, final_estimator=vc)\n",
    "\n",
    "stack.fit(X_train, y_train)\n",
    "\n",
    "stack_pred = stack.predict(X_test)\n",
    "\n",
    "print(stack_pred)"
   ]
  },
  {
   "cell_type": "code",
   "execution_count": 24,
   "id": "523d6f2d",
   "metadata": {
    "execution": {
     "iopub.execute_input": "2024-06-18T21:08:47.989231Z",
     "iopub.status.busy": "2024-06-18T21:08:47.988814Z",
     "iopub.status.idle": "2024-06-18T21:08:48.027875Z",
     "shell.execute_reply": "2024-06-18T21:08:48.026587Z"
    },
    "papermill": {
     "duration": 0.058388,
     "end_time": "2024-06-18T21:08:48.030627",
     "exception": false,
     "start_time": "2024-06-18T21:08:47.972239",
     "status": "completed"
    },
    "tags": []
   },
   "outputs": [
    {
     "name": "stdout",
     "output_type": "stream",
     "text": [
      "Accuracy: 0.8362955218679212\n"
     ]
    }
   ],
   "source": [
    "decoded_pred_stack = [reverse_label_mapping[label] for label in stack_pred]\n",
    "\n",
    "accuracy_stack = accuracy_score(decoded_test, decoded_pred_stack)\n",
    "\n",
    "print(\"Accuracy:\", accuracy_stack)"
   ]
  },
  {
   "cell_type": "markdown",
   "id": "acce9776",
   "metadata": {
    "papermill": {
     "duration": 0.015217,
     "end_time": "2024-06-18T21:08:48.061190",
     "exception": false,
     "start_time": "2024-06-18T21:08:48.045973",
     "status": "completed"
    },
    "tags": []
   },
   "source": [
    "# Submission"
   ]
  },
  {
   "cell_type": "code",
   "execution_count": 25,
   "id": "00714f48",
   "metadata": {
    "execution": {
     "iopub.execute_input": "2024-06-18T21:08:48.093843Z",
     "iopub.status.busy": "2024-06-18T21:08:48.093438Z",
     "iopub.status.idle": "2024-06-18T21:08:48.336390Z",
     "shell.execute_reply": "2024-06-18T21:08:48.335380Z"
    },
    "papermill": {
     "duration": 0.262449,
     "end_time": "2024-06-18T21:08:48.339160",
     "exception": false,
     "start_time": "2024-06-18T21:08:48.076711",
     "status": "completed"
    },
    "tags": []
   },
   "outputs": [],
   "source": [
    "test_df_preprocessed = test_df.drop(\"id\", axis=1)\n",
    "\n",
    "test_df_preprocessed = pipeline.transform(test_df_preprocessed)"
   ]
  },
  {
   "cell_type": "code",
   "execution_count": 26,
   "id": "12324f6a",
   "metadata": {
    "execution": {
     "iopub.execute_input": "2024-06-18T21:08:48.370930Z",
     "iopub.status.busy": "2024-06-18T21:08:48.370526Z",
     "iopub.status.idle": "2024-06-18T21:09:03.885063Z",
     "shell.execute_reply": "2024-06-18T21:09:03.883934Z"
    },
    "papermill": {
     "duration": 15.533116,
     "end_time": "2024-06-18T21:09:03.887393",
     "exception": false,
     "start_time": "2024-06-18T21:08:48.354277",
     "status": "completed"
    },
    "tags": []
   },
   "outputs": [
    {
     "name": "stdout",
     "output_type": "stream",
     "text": [
      "      id    Target\n",
      "0  76518   Dropout\n",
      "1  76519  Graduate\n",
      "2  76520  Graduate\n",
      "3  76521  Enrolled\n",
      "4  76522  Enrolled\n",
      "Submission data shape: (51012, 2)\n"
     ]
    }
   ],
   "source": [
    "sub_pred = stack.predict(test_df_preprocessed)\n",
    "\n",
    "decoded_sub = [reverse_label_mapping[label] for label in sub_pred]\n",
    "\n",
    "submission = pd.DataFrame({'id': test_df['id'], 'Target': decoded_sub})\n",
    "\n",
    "print(submission.head())\n",
    "print(f\"Submission data shape: {submission.shape}\")\n",
    "\n",
    "submission.to_csv('submission.csv', index=False)"
   ]
  }
 ],
 "metadata": {
  "kaggle": {
   "accelerator": "none",
   "dataSources": [
    {
     "databundleVersionId": 8710574,
     "sourceId": 73290,
     "sourceType": "competition"
    }
   ],
   "dockerImageVersionId": 30732,
   "isGpuEnabled": false,
   "isInternetEnabled": true,
   "language": "python",
   "sourceType": "notebook"
  },
  "kernelspec": {
   "display_name": "Python 3",
   "language": "python",
   "name": "python3"
  },
  "language_info": {
   "codemirror_mode": {
    "name": "ipython",
    "version": 3
   },
   "file_extension": ".py",
   "mimetype": "text/x-python",
   "name": "python",
   "nbconvert_exporter": "python",
   "pygments_lexer": "ipython3",
   "version": "3.10.13"
  },
  "papermill": {
   "default_parameters": {},
   "duration": 904.76293,
   "end_time": "2024-06-18T21:09:06.625699",
   "environment_variables": {},
   "exception": null,
   "input_path": "__notebook__.ipynb",
   "output_path": "__notebook__.ipynb",
   "parameters": {},
   "start_time": "2024-06-18T20:54:01.862769",
   "version": "2.5.0"
  }
 },
 "nbformat": 4,
 "nbformat_minor": 5
}
